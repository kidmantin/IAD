{
 "cells": [
  {
   "cell_type": "code",
   "execution_count": 1,
   "metadata": {},
   "outputs": [],
   "source": [
    "#dict of letters to morse code\n",
    "Supplementary = {'A': '.-', 'B': '-...',\n",
    "                'C': '-.-.', 'D': '-..',\n",
    "                'E': '.', 'F': '..-.',\n",
    "                'G': '--.', 'H': '....',\n",
    "                'I': '..', 'J': '.---',\n",
    "                'K': '-.-', 'L': '.-..',\n",
    "                'M': '--', 'N': '-.',\n",
    "                'O': '---', 'P': '.--.',\n",
    "                'Q': '--.-', 'R': '.-.',\n",
    "                'S': '...', 'T': '-',\n",
    "                'U': '..-', 'V': '...-',\n",
    "                'W': '.--', 'X': '-..-',\n",
    "                'Y': '-.--', 'Z': '--..',\n",
    "                '1': '.----', '2': '..---',\n",
    "                '3': '...--', '4': '....-',\n",
    "                '5': '.....', '6': '-....',\n",
    "                '7': '--...', '8': '---..',\n",
    "                '9': '----.', '0': '-----',\n",
    "                ', ': '--..--', '.': '.-.-.-',\n",
    "                '?': '..--..', '/': '-..-.',\n",
    "                '-': '-....-', '(': '-.--.',\n",
    "                ')': '-.--.-'}\n",
    "\n",
    "def code_morse(value):\n",
    "    value = value.upper() #in dict we have letters in uppercase\n",
    "    encrypted = '' #empty string for encrypted message\n",
    "\n",
    "    for letter in value:\n",
    "        if letter != ' ':\n",
    "            #getting letter in morse code and adding it to the string with 1 space\n",
    "            encrypted += Supplementary[letter] + ' '\n",
    "        else:\n",
    "            # adding 2 spaces between words\n",
    "            encrypted += ' '\n",
    "    '''\n",
    "    please add your solution here or call your solution implemented in different function from here  \n",
    "    then change return value from 'False' to value that will be returned by your solution\n",
    "    '''\n",
    "    return encrypted"
   ]
  },
  {
   "cell_type": "code",
   "execution_count": 2,
   "metadata": {},
   "outputs": [
    {
     "name": "stdout",
     "output_type": "stream",
     "text": [
      "-.. .- - .-  ... -.-. .. . -. -.-. .  -....-  ..--- ----- ..--- ..--- \n"
     ]
    }
   ],
   "source": [
    "print(code_morse(\"Data Science - 2022\"))"
   ]
  }
 ],
 "metadata": {
  "kernelspec": {
   "display_name": "Python 3.10.8 64-bit (microsoft store)",
   "language": "python",
   "name": "python3"
  },
  "language_info": {
   "codemirror_mode": {
    "name": "ipython",
    "version": 3
   },
   "file_extension": ".py",
   "mimetype": "text/x-python",
   "name": "python",
   "nbconvert_exporter": "python",
   "pygments_lexer": "ipython3",
   "version": "3.10.8"
  },
  "orig_nbformat": 4,
  "vscode": {
   "interpreter": {
    "hash": "17f3e39895349c9b2d21f3c99d0e6e454532bb3504355f077516f56d87b1e2e1"
   }
  }
 },
 "nbformat": 4,
 "nbformat_minor": 2
}
