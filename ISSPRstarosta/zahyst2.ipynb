{
 "cells": [
  {
   "attachments": {},
   "cell_type": "markdown",
   "metadata": {},
   "source": [
    "# Захист практикуму №2 \n",
    "# Абраменко Микити Олександровича, студента групи КА-01\n",
    "# 1 варіант - Створення тензорів в TensorFlow."
   ]
  },
  {
   "cell_type": "code",
   "execution_count": 33,
   "metadata": {},
   "outputs": [],
   "source": [
    "import tensorflow as tf\n",
    "import numpy as np"
   ]
  },
  {
   "attachments": {},
   "cell_type": "markdown",
   "metadata": {},
   "source": [
    "Є декілька способів створення тензорів в Tensorflow:\n",
    "1. Просте створення зі списку або масиву NumPy, важливим зауваженням є те, що вони як і масиви NumPy повинні мати один тип данних (хоча і є шляхи як це можна обійти, але зазвичай цього не роблять, адже це заважає головній особливості NumPy - швидким математичним операціям над матрицями)"
   ]
  },
  {
   "cell_type": "code",
   "execution_count": 34,
   "metadata": {},
   "outputs": [
    {
     "name": "stdout",
     "output_type": "stream",
     "text": [
      "tf.Tensor([1 2 3], shape=(3,), dtype=int32) tf.Tensor([4 5 6], shape=(3,), dtype=int32)\n"
     ]
    }
   ],
   "source": [
    "a = np.array([1, 2, 3], dtype=np.int32)\n",
    "b = [4, 5, 6]\n",
    "\n",
    "t_a = tf.convert_to_tensor(a)\n",
    "t_b = tf.convert_to_tensor(b)\n",
    "\n",
    "print(t_a, t_b)"
   ]
  },
  {
   "attachments": {},
   "cell_type": "markdown",
   "metadata": {},
   "source": [
    "Як ми бачимо вони перейняли типи данних, схоже до масивів NumPy ми можемо далі побачити їх властивості:"
   ]
  },
  {
   "cell_type": "code",
   "execution_count": 35,
   "metadata": {},
   "outputs": [
    {
     "name": "stdout",
     "output_type": "stream",
     "text": [
      "shape: (3,), types of elements in it: <dtype: 'int32'>, number of axes: 1\n"
     ]
    }
   ],
   "source": [
    "print(f'shape: {t_a.shape}, types of elements in it: {t_a.dtype}, number of axes: {t_a.ndim}')"
   ]
  },
  {
   "attachments": {},
   "cell_type": "markdown",
   "metadata": {},
   "source": [
    "2. Constant (не можна змінювати) та Variable (можна змінювати значення у ньому), такими тензорами можна створювати ваги для нейронних мереж, ваги які не потрібно навчати - constant, які підлягають навчанню - variable:"
   ]
  },
  {
   "cell_type": "code",
   "execution_count": 36,
   "metadata": {},
   "outputs": [
    {
     "name": "stdout",
     "output_type": "stream",
     "text": [
      "tf.Tensor(\n",
      "[[1. 2.]\n",
      " [3. 4.]\n",
      " [5. 6.]], shape=(3, 2), dtype=float16) \n",
      "\n",
      "AttributeError: 'tensorflow.python.framework.ops.EagerTensor' object has no attribute 'assign'\n"
     ]
    }
   ],
   "source": [
    "t_c = tf.constant([[1, 2],\n",
    "                    [3, 4],\n",
    "                    [5, 6]], dtype=tf.float16)\n",
    "\n",
    "print(t_c, '\\n')\n",
    "\n",
    "try: \n",
    "    t_c[0][0].assign(10)\n",
    "except Exception as e:\n",
    "    print(f\"{type(e).__name__}: {e}\")"
   ]
  },
  {
   "cell_type": "code",
   "execution_count": 37,
   "metadata": {},
   "outputs": [
    {
     "name": "stdout",
     "output_type": "stream",
     "text": [
      "<tf.Variable 'Variable:0' shape=(3, 2) dtype=float16, numpy=\n",
      "array([[3., 4.],\n",
      "       [5., 6.],\n",
      "       [7., 8.]], dtype=float16)> \n",
      "\n",
      "<tf.Variable 'Variable:0' shape=(3, 2) dtype=float16, numpy=\n",
      "array([[10.,  4.],\n",
      "       [ 5.,  6.],\n",
      "       [ 7.,  8.]], dtype=float16)>\n"
     ]
    }
   ],
   "source": [
    "t_v = tf.Variable([[3, 4],\n",
    "                    [5, 6],\n",
    "                    [7, 8]], dtype=tf.float16)\n",
    "\n",
    "print(t_v, '\\n')\n",
    "\n",
    "try: \n",
    "    t_v[0, 0].assign(10)\n",
    "    print(t_v)\n",
    "except Exception as e: print(e)"
   ]
  },
  {
   "attachments": {},
   "cell_type": "markdown",
   "metadata": {},
   "source": [
    "3. Базові тензори вимагають правильної \"прямокутної\" форми, але у tensorflow, також є класси які дозволяють обійти це обмеження:\n",
    "* RaggedTensor\n",
    "* SparseTensor"
   ]
  },
  {
   "cell_type": "code",
   "execution_count": 38,
   "metadata": {},
   "outputs": [
    {
     "name": "stdout",
     "output_type": "stream",
     "text": [
      "ValueError: Can't convert non-rectangular Python sequence to Tensor.\n",
      "<tf.RaggedTensor [[0, 1, 2, 3], [4, 5], [6, 7, 8], [9]]> \n",
      " (4, None)\n"
     ]
    }
   ],
   "source": [
    "ragged_list = [\n",
    "    [0, 1, 2, 3],\n",
    "    [4, 5],\n",
    "    [6, 7, 8],\n",
    "    [9]]\n",
    "\n",
    "try:\n",
    "    tensor = tf.constant(ragged_list)\n",
    "except Exception as e:\n",
    "    print(f\"{type(e).__name__}: {e}\")\n",
    "    \n",
    "ragged_tensor = tf.ragged.constant(ragged_list)\n",
    "print(ragged_tensor, '\\n', ragged_tensor.shape)"
   ]
  },
  {
   "attachments": {},
   "cell_type": "markdown",
   "metadata": {},
   "source": [
    "Як ми можемо помітити такий тензор має осі з невідомою довжиною"
   ]
  },
  {
   "cell_type": "code",
   "execution_count": 39,
   "metadata": {},
   "outputs": [
    {
     "name": "stdout",
     "output_type": "stream",
     "text": [
      "SparseTensor(indices=tf.Tensor(\n",
      "[[0 0]\n",
      " [1 2]], shape=(2, 2), dtype=int64), values=tf.Tensor([1 2], shape=(2,), dtype=int32), dense_shape=tf.Tensor([3 4], shape=(2,), dtype=int64)) \n",
      "\n",
      "tf.Tensor(\n",
      "[[1 0 0 0]\n",
      " [0 0 2 0]\n",
      " [0 0 0 0]], shape=(3, 4), dtype=int32)\n"
     ]
    }
   ],
   "source": [
    "sparse_tensor = tf.sparse.SparseTensor(indices=[[0, 0], [1, 2]],\n",
    "                                       values=[1, 2],\n",
    "                                       dense_shape=[3, 4])\n",
    "print(sparse_tensor, \"\\n\")\n",
    "\n",
    "print(tf.sparse.to_dense(sparse_tensor))"
   ]
  },
  {
   "attachments": {},
   "cell_type": "markdown",
   "metadata": {},
   "source": [
    "Такі тензори іноді використовують для зберігання пам'яті, наприклад коли змінні були закодовані через OHE"
   ]
  },
  {
   "attachments": {},
   "cell_type": "markdown",
   "metadata": {},
   "source": [
    "Якщо тензор потрібно повернути у вигляді масиву NumPy, то можна використати метод .numpy(), або np.array(tensor):"
   ]
  },
  {
   "cell_type": "code",
   "execution_count": 40,
   "metadata": {},
   "outputs": [
    {
     "name": "stdout",
     "output_type": "stream",
     "text": [
      "[1 2 3] <class 'numpy.ndarray'>\n"
     ]
    }
   ],
   "source": [
    "print(t_a.numpy(), type(t_a.numpy()))"
   ]
  },
  {
   "cell_type": "code",
   "execution_count": 41,
   "metadata": {},
   "outputs": [
    {
     "name": "stdout",
     "output_type": "stream",
     "text": [
      "[1 2 3] <class 'numpy.ndarray'>\n"
     ]
    }
   ],
   "source": [
    "print(np.array(t_a), type(np.array(t_a)))"
   ]
  }
 ],
 "metadata": {
  "kernelspec": {
   "display_name": "fullds",
   "language": "python",
   "name": "python3"
  },
  "language_info": {
   "codemirror_mode": {
    "name": "ipython",
    "version": 3
   },
   "file_extension": ".py",
   "mimetype": "text/x-python",
   "name": "python",
   "nbconvert_exporter": "python",
   "pygments_lexer": "ipython3",
   "version": "3.8.15"
  },
  "orig_nbformat": 4
 },
 "nbformat": 4,
 "nbformat_minor": 2
}
