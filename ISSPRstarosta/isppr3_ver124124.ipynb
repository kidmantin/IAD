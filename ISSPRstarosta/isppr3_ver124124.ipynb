{
  "cells": [
    {
      "cell_type": "markdown",
      "metadata": {
        "id": "geWu8s4g-iK0"
      },
      "source": [
        "# Практикум №3\n",
        "# Абраменко Микити Олександровича, студента групи КА-01\n",
        "# 1 варіант\n",
        "## Реалізація багатошарового персептрона для класифікації зображень MNIST в TensorFlow з нуля"
      ]
    },
    {
      "cell_type": "markdown",
      "metadata": {
        "id": "AC4n-to54Kup"
      },
      "source": [
        "# Імпорт бібліотек, датасету, та його трансформація для подальшого використання\n",
        "\n",
        "# ЩО БУЛО ПЕРЕРОБЛЕНО:\n",
        "Тепер використовується функція втрат з tensorflow, а не написана вручну, код був переписаний, щоб використовувати саме цю функцію"
      ]
    },
    {
      "cell_type": "code",
      "execution_count": 1,
      "metadata": {
        "id": "aTj8b0k0UPZr"
      },
      "outputs": [],
      "source": [
        "import tensorflow as tf\n",
        "\n",
        "# Set TensorFlow to use GPU\n",
        "gpus = tf.config.list_physical_devices('GPU')\n",
        "tf.config.set_visible_devices(gpus[0], 'GPU')\n",
        "tf.config.experimental.set_memory_growth(gpus[0], True)"
      ]
    },
    {
      "cell_type": "code",
      "execution_count": 2,
      "metadata": {
        "colab": {
          "base_uri": "https://localhost:8080/"
        },
        "id": "KRlQYkh09gcA",
        "outputId": "40b1d12f-50df-4afe-8477-c7ae107bab81"
      },
      "outputs": [
        {
          "output_type": "stream",
          "name": "stderr",
          "text": [
            "/usr/local/lib/python3.10/dist-packages/sklearn/datasets/_openml.py:968: FutureWarning: The default value of `parser` will change from `'liac-arff'` to `'auto'` in 1.4. You can set `parser='auto'` to silence this warning. Therefore, an `ImportError` will be raised from 1.4 if the dataset is dense and pandas is not installed. Note that the pandas parser may return different data types. See the Notes Section in fetch_openml's API doc for details.\n",
            "  warn(\n"
          ]
        }
      ],
      "source": [
        "import pandas as pd\n",
        "import numpy as np\n",
        "import seaborn as sns\n",
        "import matplotlib.pyplot as plt\n",
        "import tensorflow as tf\n",
        "import tensorflow_datasets as tfds\n",
        "\n",
        "from sklearn.datasets import fetch_openml\n",
        "from sklearn.model_selection import train_test_split\n",
        "from sklearn.preprocessing import OneHotEncoder\n",
        "from sklearn.metrics import accuracy_score\n",
        "\n",
        "X, y = fetch_openml('mnist_784', version=1, return_X_y=True, as_frame=False)\n",
        "y = y.astype(int)\n",
        "X = ((X / 255.) - .5) * 2 # нормалізація данних\n",
        "\n",
        "X_train, X_test, y_train_not_encoded, y_test_not_encoded = train_test_split(\n",
        "    X, y, test_size=10000, random_state=17, stratify=y)"
      ]
    },
    {
      "cell_type": "code",
      "execution_count": 3,
      "metadata": {
        "colab": {
          "base_uri": "https://localhost:8080/",
          "height": 338
        },
        "id": "BXFtfJhS-kmV",
        "outputId": "bfeb2f7c-dec9-4df5-f331-2278a6696273"
      },
      "outputs": [
        {
          "output_type": "display_data",
          "data": {
            "text/plain": [
              "<Figure size 640x480 with 10 Axes>"
            ],
            "image/png": "[encoded data removed]"
          },
          "metadata": {}
        }
      ],
      "source": [
        "fig, ax = plt.subplots(nrows=2, ncols=5, sharex=True, sharey=True)\n",
        "ax = ax.flatten()\n",
        "for i in range(10):\n",
        "    img = X_train[y_train_not_encoded == i][:1].reshape(28, 28)\n",
        "    ax[i].imshow(img, cmap='Greys')\n",
        "\n",
        "ax[0].set_xticks([])\n",
        "ax[0].set_yticks([])\n",
        "plt.tight_layout()\n",
        "plt.show()"
      ]
    },
    {
      "cell_type": "code",
      "execution_count": 4,
      "metadata": {
        "colab": {
          "base_uri": "https://localhost:8080/",
          "height": 329
        },
        "id": "DpsWUH1z_zj7",
        "outputId": "24bedb50-72f6-4743-9df7-e3fb5c749236"
      },
      "outputs": [
        {
          "output_type": "execute_result",
          "data": {
            "text/plain": [
              "           0        1        2        3        4        5        6        7    \\\n",
              "count  60000.0  60000.0  60000.0  60000.0  60000.0  60000.0  60000.0  60000.0   \n",
              "mean      -1.0     -1.0     -1.0     -1.0     -1.0     -1.0     -1.0     -1.0   \n",
              "std        0.0      0.0      0.0      0.0      0.0      0.0      0.0      0.0   \n",
              "min       -1.0     -1.0     -1.0     -1.0     -1.0     -1.0     -1.0     -1.0   \n",
              "25%       -1.0     -1.0     -1.0     -1.0     -1.0     -1.0     -1.0     -1.0   \n",
              "50%       -1.0     -1.0     -1.0     -1.0     -1.0     -1.0     -1.0     -1.0   \n",
              "75%       -1.0     -1.0     -1.0     -1.0     -1.0     -1.0     -1.0     -1.0   \n",
              "max       -1.0     -1.0     -1.0     -1.0     -1.0     -1.0     -1.0     -1.0   \n",
              "\n",
              "           8        9    ...           774           775           776  \\\n",
              "count  60000.0  60000.0  ...  60000.000000  60000.000000  60000.000000   \n",
              "mean      -1.0     -1.0  ...     -0.998555     -0.999226     -0.999608   \n",
              "std        0.0      0.0  ...      0.045943      0.033444      0.022961   \n",
              "min       -1.0     -1.0  ...     -1.000000     -1.000000     -1.000000   \n",
              "25%       -1.0     -1.0  ...     -1.000000     -1.000000     -1.000000   \n",
              "50%       -1.0     -1.0  ...     -1.000000     -1.000000     -1.000000   \n",
              "75%       -1.0     -1.0  ...     -1.000000     -1.000000     -1.000000   \n",
              "max       -1.0     -1.0  ...      0.992157      0.992157      0.984314   \n",
              "\n",
              "                777           778           779      780      781      782  \\\n",
              "count  60000.000000  60000.000000  60000.000000  60000.0  60000.0  60000.0   \n",
              "mean      -0.999853     -0.999902     -0.999984     -1.0     -1.0     -1.0   \n",
              "std        0.013196      0.012205      0.002718      0.0      0.0      0.0   \n",
              "min       -1.000000     -1.000000     -1.000000     -1.0     -1.0     -1.0   \n",
              "25%       -1.000000     -1.000000     -1.000000     -1.0     -1.0     -1.0   \n",
              "50%       -1.000000     -1.000000     -1.000000     -1.0     -1.0     -1.0   \n",
              "75%       -1.000000     -1.000000     -1.000000     -1.0     -1.0     -1.0   \n",
              "max        0.984314      0.992157     -0.513725     -1.0     -1.0     -1.0   \n",
              "\n",
              "           783  \n",
              "count  60000.0  \n",
              "mean      -1.0  \n",
              "std        0.0  \n",
              "min       -1.0  \n",
              "25%       -1.0  \n",
              "50%       -1.0  \n",
              "75%       -1.0  \n",
              "max       -1.0  \n",
              "\n",
              "[8 rows x 784 columns]"
            ],
            "text/html": [
              "\n",
              "  <div id=\"df-c883bc29-ddb8-45dd-ad25-b7b1e83ffde4\">\n",
              "    <div class=\"colab-df-container\">\n",
              "      <div>\n",
              "<style scoped>\n",
              "    .dataframe tbody tr th:only-of-type {\n",
              "        vertical-align: middle;\n",
              "    }\n",
              "\n",
              "    .dataframe tbody tr th {\n",
              "        vertical-align: top;\n",
              "    }\n",
              "\n",
              "    .dataframe thead th {\n",
              "        text-align: right;\n",
              "    }\n",
              "</style>\n",
              "<table border=\"1\" class=\"dataframe\">\n",
              "  <thead>\n",
              "    <tr style=\"text-align: right;\">\n",
              "      <th></th>\n",
              "      <th>0</th>\n",
              "      <th>1</th>\n",
              "      <th>2</th>\n",
              "      <th>3</th>\n",
              "      <th>4</th>\n",
              "      <th>5</th>\n",
              "      <th>6</th>\n",
              "      <th>7</th>\n",
              "      <th>8</th>\n",
              "      <th>9</th>\n",
              "      <th>...</th>\n",
              "      <th>774</th>\n",
              "      <th>775</th>\n",
              "      <th>776</th>\n",
              "      <th>777</th>\n",
              "      <th>778</th>\n",
              "      <th>779</th>\n",
              "      <th>780</th>\n",
              "      <th>781</th>\n",
              "      <th>782</th>\n",
              "      <th>783</th>\n",
              "    </tr>\n",
              "  </thead>\n",
              "  <tbody>\n",
              "    <tr>\n",
              "      <th>count</th>\n",
              "      <td>60000.0</td>\n",
              "      <td>60000.0</td>\n",
              "      <td>60000.0</td>\n",
              "      <td>60000.0</td>\n",
              "      <td>60000.0</td>\n",
              "      <td>60000.0</td>\n",
              "      <td>60000.0</td>\n",
              "      <td>60000.0</td>\n",
              "      <td>60000.0</td>\n",
              "      <td>60000.0</td>\n",
              "      <td>...</td>\n",
              "      <td>60000.000000</td>\n",
              "      <td>60000.000000</td>\n",
              "      <td>60000.000000</td>\n",
              "      <td>60000.000000</td>\n",
              "      <td>60000.000000</td>\n",
              "      <td>60000.000000</td>\n",
              "      <td>60000.0</td>\n",
              "      <td>60000.0</td>\n",
              "      <td>60000.0</td>\n",
              "      <td>60000.0</td>\n",
              "    </tr>\n",
              "    <tr>\n",
              "      <th>mean</th>\n",
              "      <td>-1.0</td>\n",
              "      <td>-1.0</td>\n",
              "      <td>-1.0</td>\n",
              "      <td>-1.0</td>\n",
              "      <td>-1.0</td>\n",
              "      <td>-1.0</td>\n",
              "      <td>-1.0</td>\n",
              "      <td>-1.0</td>\n",
              "      <td>-1.0</td>\n",
              "      <td>-1.0</td>\n",
              "      <td>...</td>\n",
              "      <td>-0.998555</td>\n",
              "      <td>-0.999226</td>\n",
              "      <td>-0.999608</td>\n",
              "      <td>-0.999853</td>\n",
              "      <td>-0.999902</td>\n",
              "      <td>-0.999984</td>\n",
              "      <td>-1.0</td>\n",
              "      <td>-1.0</td>\n",
              "      <td>-1.0</td>\n",
              "      <td>-1.0</td>\n",
              "    </tr>\n",
              "    <tr>\n",
              "      <th>std</th>\n",
              "      <td>0.0</td>\n",
              "      <td>0.0</td>\n",
              "      <td>0.0</td>\n",
              "      <td>0.0</td>\n",
              "      <td>0.0</td>\n",
              "      <td>0.0</td>\n",
              "      <td>0.0</td>\n",
              "      <td>0.0</td>\n",
              "      <td>0.0</td>\n",
              "      <td>0.0</td>\n",
              "      <td>...</td>\n",
              "      <td>0.045943</td>\n",
              "      <td>0.033444</td>\n",
              "      <td>0.022961</td>\n",
              "      <td>0.013196</td>\n",
              "      <td>0.012205</td>\n",
              "      <td>0.002718</td>\n",
              "      <td>0.0</td>\n",
              "      <td>0.0</td>\n",
              "      <td>0.0</td>\n",
              "      <td>0.0</td>\n",
              "    </tr>\n",
              "    <tr>\n",
              "      <th>min</th>\n",
              "      <td>-1.0</td>\n",
              "      <td>-1.0</td>\n",
              "      <td>-1.0</td>\n",
              "      <td>-1.0</td>\n",
              "      <td>-1.0</td>\n",
              "      <td>-1.0</td>\n",
              "      <td>-1.0</td>\n",
              "      <td>-1.0</td>\n",
              "      <td>-1.0</td>\n",
              "      <td>-1.0</td>\n",
              "      <td>...</td>\n",
              "      <td>-1.000000</td>\n",
              "      <td>-1.000000</td>\n",
              "      <td>-1.000000</td>\n",
              "      <td>-1.000000</td>\n",
              "      <td>-1.000000</td>\n",
              "      <td>-1.000000</td>\n",
              "      <td>-1.0</td>\n",
              "      <td>-1.0</td>\n",
              "      <td>-1.0</td>\n",
              "      <td>-1.0</td>\n",
              "    </tr>\n",
              "    <tr>\n",
              "      <th>25%</th>\n",
              "      <td>-1.0</td>\n",
              "      <td>-1.0</td>\n",
              "      <td>-1.0</td>\n",
              "      <td>-1.0</td>\n",
              "      <td>-1.0</td>\n",
              "      <td>-1.0</td>\n",
              "      <td>-1.0</td>\n",
              "      <td>-1.0</td>\n",
              "      <td>-1.0</td>\n",
              "      <td>-1.0</td>\n",
              "      <td>...</td>\n",
              "      <td>-1.000000</td>\n",
              "      <td>-1.000000</td>\n",
              "      <td>-1.000000</td>\n",
              "      <td>-1.000000</td>\n",
              "      <td>-1.000000</td>\n",
              "      <td>-1.000000</td>\n",
              "      <td>-1.0</td>\n",
              "      <td>-1.0</td>\n",
              "      <td>-1.0</td>\n",
              "      <td>-1.0</td>\n",
              "    </tr>\n",
              "    <tr>\n",
              "      <th>50%</th>\n",
              "      <td>-1.0</td>\n",
              "      <td>-1.0</td>\n",
              "      <td>-1.0</td>\n",
              "      <td>-1.0</td>\n",
              "      <td>-1.0</td>\n",
              "      <td>-1.0</td>\n",
              "      <td>-1.0</td>\n",
              "      <td>-1.0</td>\n",
              "      <td>-1.0</td>\n",
              "      <td>-1.0</td>\n",
              "      <td>...</td>\n",
              "      <td>-1.000000</td>\n",
              "      <td>-1.000000</td>\n",
              "      <td>-1.000000</td>\n",
              "      <td>-1.000000</td>\n",
              "      <td>-1.000000</td>\n",
              "      <td>-1.000000</td>\n",
              "      <td>-1.0</td>\n",
              "      <td>-1.0</td>\n",
              "      <td>-1.0</td>\n",
              "      <td>-1.0</td>\n",
              "    </tr>\n",
              "    <tr>\n",
              "      <th>75%</th>\n",
              "      <td>-1.0</td>\n",
              "      <td>-1.0</td>\n",
              "      <td>-1.0</td>\n",
              "      <td>-1.0</td>\n",
              "      <td>-1.0</td>\n",
              "      <td>-1.0</td>\n",
              "      <td>-1.0</td>\n",
              "      <td>-1.0</td>\n",
              "      <td>-1.0</td>\n",
              "      <td>-1.0</td>\n",
              "      <td>...</td>\n",
              "      <td>-1.000000</td>\n",
              "      <td>-1.000000</td>\n",
              "      <td>-1.000000</td>\n",
              "      <td>-1.000000</td>\n",
              "      <td>-1.000000</td>\n",
              "      <td>-1.000000</td>\n",
              "      <td>-1.0</td>\n",
              "      <td>-1.0</td>\n",
              "      <td>-1.0</td>\n",
              "      <td>-1.0</td>\n",
              "    </tr>\n",
              "    <tr>\n",
              "      <th>max</th>\n",
              "      <td>-1.0</td>\n",
              "      <td>-1.0</td>\n",
              "      <td>-1.0</td>\n",
              "      <td>-1.0</td>\n",
              "      <td>-1.0</td>\n",
              "      <td>-1.0</td>\n",
              "      <td>-1.0</td>\n",
              "      <td>-1.0</td>\n",
              "      <td>-1.0</td>\n",
              "      <td>-1.0</td>\n",
              "      <td>...</td>\n",
              "      <td>0.992157</td>\n",
              "      <td>0.992157</td>\n",
              "      <td>0.984314</td>\n",
              "      <td>0.984314</td>\n",
              "      <td>0.992157</td>\n",
              "      <td>-0.513725</td>\n",
              "      <td>-1.0</td>\n",
              "      <td>-1.0</td>\n",
              "      <td>-1.0</td>\n",
              "      <td>-1.0</td>\n",
              "    </tr>\n",
              "  </tbody>\n",
              "</table>\n",
              "<p>8 rows × 784 columns</p>\n",
              "</div>\n",
              "      <button class=\"colab-df-convert\" onclick=\"convertToInteractive('df-c883bc29-ddb8-45dd-ad25-b7b1e83ffde4')\"\n",
              "              title=\"Convert this dataframe to an interactive table.\"\n",
              "              style=\"display:none;\">\n",
              "        \n",
              "  <svg xmlns=\"http://www.w3.org/2000/svg\" height=\"24px\"viewBox=\"0 0 24 24\"\n",
              "       width=\"24px\">\n",
              "    <path d=\"M0 0h24v24H0V0z\" fill=\"none\"/>\n",
              "    <path d=\"M18.56 5.44l.94 2.06.94-2.06 2.06-.94-2.06-.94-.94-2.06-.94 2.06-2.06.94zm-11 1L8.5 8.5l.94-2.06 2.06-.94-2.06-.94L8.5 2.5l-.94 2.06-2.06.94zm10 10l.94 2.06.94-2.06 2.06-.94-2.06-.94-.94-2.06-.94 2.06-2.06.94z\"/><path d=\"M17.41 7.96l-1.37-1.37c-.4-.4-.92-.59-1.43-.59-.52 0-1.04.2-1.43.59L10.3 9.45l-7.72 7.72c-.78.78-.78 2.05 0 2.83L4 21.41c.39.39.9.59 1.41.59.51 0 1.02-.2 1.41-.59l7.78-7.78 2.81-2.81c.8-.78.8-2.07 0-2.86zM5.41 20L4 18.59l7.72-7.72 1.47 1.35L5.41 20z\"/>\n",
              "  </svg>\n",
              "      </button>\n",
              "      \n",
              "  <style>\n",
              "    .colab-df-container {\n",
              "      display:flex;\n",
              "      flex-wrap:wrap;\n",
              "      gap: 12px;\n",
              "    }\n",
              "\n",
              "    .colab-df-convert {\n",
              "      background-color: #E8F0FE;\n",
              "      border: none;\n",
              "      border-radius: 50%;\n",
              "      cursor: pointer;\n",
              "      display: none;\n",
              "      fill: #1967D2;\n",
              "      height: 32px;\n",
              "      padding: 0 0 0 0;\n",
              "      width: 32px;\n",
              "    }\n",
              "\n",
              "    .colab-df-convert:hover {\n",
              "      background-color: #E2EBFA;\n",
              "      box-shadow: 0px 1px 2px rgba(60, 64, 67, 0.3), 0px 1px 3px 1px rgba(60, 64, 67, 0.15);\n",
              "      fill: #174EA6;\n",
              "    }\n",
              "\n",
              "    [theme=dark] .colab-df-convert {\n",
              "      background-color: #3B4455;\n",
              "      fill: #D2E3FC;\n",
              "    }\n",
              "\n",
              "    [theme=dark] .colab-df-convert:hover {\n",
              "      background-color: #434B5C;\n",
              "      box-shadow: 0px 1px 3px 1px rgba(0, 0, 0, 0.15);\n",
              "      filter: drop-shadow(0px 1px 2px rgba(0, 0, 0, 0.3));\n",
              "      fill: #FFFFFF;\n",
              "    }\n",
              "  </style>\n",
              "\n",
              "      <script>\n",
              "        const buttonEl =\n",
              "          document.querySelector('#df-c883bc29-ddb8-45dd-ad25-b7b1e83ffde4 button.colab-df-convert');\n",
              "        buttonEl.style.display =\n",
              "          google.colab.kernel.accessAllowed ? 'block' : 'none';\n",
              "\n",
              "        async function convertToInteractive(key) {\n",
              "          const element = document.querySelector('#df-c883bc29-ddb8-45dd-ad25-b7b1e83ffde4');\n",
              "          const dataTable =\n",
              "            await google.colab.kernel.invokeFunction('convertToInteractive',\n",
              "                                                     [key], {});\n",
              "          if (!dataTable) return;\n",
              "\n",
              "          const docLinkHtml = 'Like what you see? Visit the ' +\n",
              "            '<a target=\"_blank\" href=https://colab.research.google.com/notebooks/data_table.ipynb>data table notebook</a>'\n",
              "            + ' to learn more about interactive tables.';\n",
              "          element.innerHTML = '';\n",
              "          dataTable['output_type'] = 'display_data';\n",
              "          await google.colab.output.renderOutput(dataTable, element);\n",
              "          const docLink = document.createElement('div');\n",
              "          docLink.innerHTML = docLinkHtml;\n",
              "          element.appendChild(docLink);\n",
              "        }\n",
              "      </script>\n",
              "    </div>\n",
              "  </div>\n",
              "  "
            ]
          },
          "metadata": {},
          "execution_count": 4
        }
      ],
      "source": [
        "pd.DataFrame(X_train).describe()"
      ]
    },
    {
      "cell_type": "markdown",
      "metadata": {
        "id": "HjzW0r9qhpZO"
      },
      "source": [
        "OHE для лейблів "
      ]
    },
    {
      "cell_type": "code",
      "execution_count": 5,
      "metadata": {
        "id": "hy8NlwYWhsBC"
      },
      "outputs": [],
      "source": [
        "OHE = OneHotEncoder(categories=[np.arange(10)])\n",
        "\n",
        "y_train_encoded = OHE.fit_transform(y_train_not_encoded.reshape(-1, 1))\n",
        "y_test_encoded = OHE.transform(y_test_not_encoded.reshape(-1, 1))"
      ]
    },
    {
      "cell_type": "markdown",
      "metadata": {
        "id": "-yZRMLoMiVe9"
      },
      "source": [
        "Порівняємо результат"
      ]
    },
    {
      "cell_type": "code",
      "execution_count": 6,
      "metadata": {
        "colab": {
          "base_uri": "https://localhost:8080/"
        },
        "id": "J1ZiAXGuiLj7",
        "outputId": "9d6f7b68-2c5f-429a-b0e5-0a0dadfb4477"
      },
      "outputs": [
        {
          "output_type": "execute_result",
          "data": {
            "text/plain": [
              "array([0, 7, 3, ..., 8, 9, 8])"
            ]
          },
          "metadata": {},
          "execution_count": 6
        }
      ],
      "source": [
        "y_train_not_encoded"
      ]
    },
    {
      "cell_type": "code",
      "execution_count": 7,
      "metadata": {
        "colab": {
          "base_uri": "https://localhost:8080/",
          "height": 423
        },
        "id": "oNDiMKyzh1T1",
        "outputId": "5cc2d2f6-7339-46e8-de9e-5a95c80d726b"
      },
      "outputs": [
        {
          "output_type": "execute_result",
          "data": {
            "text/plain": [
              "         0    1    2    3    4    5    6    7    8    9\n",
              "0      1.0  0.0  0.0  0.0  0.0  0.0  0.0  0.0  0.0  0.0\n",
              "1      0.0  0.0  0.0  0.0  0.0  0.0  0.0  1.0  0.0  0.0\n",
              "2      0.0  0.0  0.0  1.0  0.0  0.0  0.0  0.0  0.0  0.0\n",
              "3      0.0  0.0  0.0  0.0  0.0  0.0  0.0  1.0  0.0  0.0\n",
              "4      1.0  0.0  0.0  0.0  0.0  0.0  0.0  0.0  0.0  0.0\n",
              "...    ...  ...  ...  ...  ...  ...  ...  ...  ...  ...\n",
              "59995  0.0  0.0  0.0  0.0  0.0  0.0  1.0  0.0  0.0  0.0\n",
              "59996  0.0  1.0  0.0  0.0  0.0  0.0  0.0  0.0  0.0  0.0\n",
              "59997  0.0  0.0  0.0  0.0  0.0  0.0  0.0  0.0  1.0  0.0\n",
              "59998  0.0  0.0  0.0  0.0  0.0  0.0  0.0  0.0  0.0  1.0\n",
              "59999  0.0  0.0  0.0  0.0  0.0  0.0  0.0  0.0  1.0  0.0\n",
              "\n",
              "[60000 rows x 10 columns]"
            ],
            "text/html": [
              "\n",
              "  <div id=\"df-5fde81e1-821d-4fdf-9fda-66c5e66fe5cd\">\n",
              "    <div class=\"colab-df-container\">\n",
              "      <div>\n",
              "<style scoped>\n",
              "    .dataframe tbody tr th:only-of-type {\n",
              "        vertical-align: middle;\n",
              "    }\n",
              "\n",
              "    .dataframe tbody tr th {\n",
              "        vertical-align: top;\n",
              "    }\n",
              "\n",
              "    .dataframe thead th {\n",
              "        text-align: right;\n",
              "    }\n",
              "</style>\n",
              "<table border=\"1\" class=\"dataframe\">\n",
              "  <thead>\n",
              "    <tr style=\"text-align: right;\">\n",
              "      <th></th>\n",
              "      <th>0</th>\n",
              "      <th>1</th>\n",
              "      <th>2</th>\n",
              "      <th>3</th>\n",
              "      <th>4</th>\n",
              "      <th>5</th>\n",
              "      <th>6</th>\n",
              "      <th>7</th>\n",
              "      <th>8</th>\n",
              "      <th>9</th>\n",
              "    </tr>\n",
              "  </thead>\n",
              "  <tbody>\n",
              "    <tr>\n",
              "      <th>0</th>\n",
              "      <td>1.0</td>\n",
              "      <td>0.0</td>\n",
              "      <td>0.0</td>\n",
              "      <td>0.0</td>\n",
              "      <td>0.0</td>\n",
              "      <td>0.0</td>\n",
              "      <td>0.0</td>\n",
              "      <td>0.0</td>\n",
              "      <td>0.0</td>\n",
              "      <td>0.0</td>\n",
              "    </tr>\n",
              "    <tr>\n",
              "      <th>1</th>\n",
              "      <td>0.0</td>\n",
              "      <td>0.0</td>\n",
              "      <td>0.0</td>\n",
              "      <td>0.0</td>\n",
              "      <td>0.0</td>\n",
              "      <td>0.0</td>\n",
              "      <td>0.0</td>\n",
              "      <td>1.0</td>\n",
              "      <td>0.0</td>\n",
              "      <td>0.0</td>\n",
              "    </tr>\n",
              "    <tr>\n",
              "      <th>2</th>\n",
              "      <td>0.0</td>\n",
              "      <td>0.0</td>\n",
              "      <td>0.0</td>\n",
              "      <td>1.0</td>\n",
              "      <td>0.0</td>\n",
              "      <td>0.0</td>\n",
              "      <td>0.0</td>\n",
              "      <td>0.0</td>\n",
              "      <td>0.0</td>\n",
              "      <td>0.0</td>\n",
              "    </tr>\n",
              "    <tr>\n",
              "      <th>3</th>\n",
              "      <td>0.0</td>\n",
              "      <td>0.0</td>\n",
              "      <td>0.0</td>\n",
              "      <td>0.0</td>\n",
              "      <td>0.0</td>\n",
              "      <td>0.0</td>\n",
              "      <td>0.0</td>\n",
              "      <td>1.0</td>\n",
              "      <td>0.0</td>\n",
              "      <td>0.0</td>\n",
              "    </tr>\n",
              "    <tr>\n",
              "      <th>4</th>\n",
              "      <td>1.0</td>\n",
              "      <td>0.0</td>\n",
              "      <td>0.0</td>\n",
              "      <td>0.0</td>\n",
              "      <td>0.0</td>\n",
              "      <td>0.0</td>\n",
              "      <td>0.0</td>\n",
              "      <td>0.0</td>\n",
              "      <td>0.0</td>\n",
              "      <td>0.0</td>\n",
              "    </tr>\n",
              "    <tr>\n",
              "      <th>...</th>\n",
              "      <td>...</td>\n",
              "      <td>...</td>\n",
              "      <td>...</td>\n",
              "      <td>...</td>\n",
              "      <td>...</td>\n",
              "      <td>...</td>\n",
              "      <td>...</td>\n",
              "      <td>...</td>\n",
              "      <td>...</td>\n",
              "      <td>...</td>\n",
              "    </tr>\n",
              "    <tr>\n",
              "      <th>59995</th>\n",
              "      <td>0.0</td>\n",
              "      <td>0.0</td>\n",
              "      <td>0.0</td>\n",
              "      <td>0.0</td>\n",
              "      <td>0.0</td>\n",
              "      <td>0.0</td>\n",
              "      <td>1.0</td>\n",
              "      <td>0.0</td>\n",
              "      <td>0.0</td>\n",
              "      <td>0.0</td>\n",
              "    </tr>\n",
              "    <tr>\n",
              "      <th>59996</th>\n",
              "      <td>0.0</td>\n",
              "      <td>1.0</td>\n",
              "      <td>0.0</td>\n",
              "      <td>0.0</td>\n",
              "      <td>0.0</td>\n",
              "      <td>0.0</td>\n",
              "      <td>0.0</td>\n",
              "      <td>0.0</td>\n",
              "      <td>0.0</td>\n",
              "      <td>0.0</td>\n",
              "    </tr>\n",
              "    <tr>\n",
              "      <th>59997</th>\n",
              "      <td>0.0</td>\n",
              "      <td>0.0</td>\n",
              "      <td>0.0</td>\n",
              "      <td>0.0</td>\n",
              "      <td>0.0</td>\n",
              "      <td>0.0</td>\n",
              "      <td>0.0</td>\n",
              "      <td>0.0</td>\n",
              "      <td>1.0</td>\n",
              "      <td>0.0</td>\n",
              "    </tr>\n",
              "    <tr>\n",
              "      <th>59998</th>\n",
              "      <td>0.0</td>\n",
              "      <td>0.0</td>\n",
              "      <td>0.0</td>\n",
              "      <td>0.0</td>\n",
              "      <td>0.0</td>\n",
              "      <td>0.0</td>\n",
              "      <td>0.0</td>\n",
              "      <td>0.0</td>\n",
              "      <td>0.0</td>\n",
              "      <td>1.0</td>\n",
              "    </tr>\n",
              "    <tr>\n",
              "      <th>59999</th>\n",
              "      <td>0.0</td>\n",
              "      <td>0.0</td>\n",
              "      <td>0.0</td>\n",
              "      <td>0.0</td>\n",
              "      <td>0.0</td>\n",
              "      <td>0.0</td>\n",
              "      <td>0.0</td>\n",
              "      <td>0.0</td>\n",
              "      <td>1.0</td>\n",
              "      <td>0.0</td>\n",
              "    </tr>\n",
              "  </tbody>\n",
              "</table>\n",
              "<p>60000 rows × 10 columns</p>\n",
              "</div>\n",
              "      <button class=\"colab-df-convert\" onclick=\"convertToInteractive('df-5fde81e1-821d-4fdf-9fda-66c5e66fe5cd')\"\n",
              "              title=\"Convert this dataframe to an interactive table.\"\n",
              "              style=\"display:none;\">\n",
              "        \n",
              "  <svg xmlns=\"http://www.w3.org/2000/svg\" height=\"24px\"viewBox=\"0 0 24 24\"\n",
              "       width=\"24px\">\n",
              "    <path d=\"M0 0h24v24H0V0z\" fill=\"none\"/>\n",
              "    <path d=\"M18.56 5.44l.94 2.06.94-2.06 2.06-.94-2.06-.94-.94-2.06-.94 2.06-2.06.94zm-11 1L8.5 8.5l.94-2.06 2.06-.94-2.06-.94L8.5 2.5l-.94 2.06-2.06.94zm10 10l.94 2.06.94-2.06 2.06-.94-2.06-.94-.94-2.06-.94 2.06-2.06.94z\"/><path d=\"M17.41 7.96l-1.37-1.37c-.4-.4-.92-.59-1.43-.59-.52 0-1.04.2-1.43.59L10.3 9.45l-7.72 7.72c-.78.78-.78 2.05 0 2.83L4 21.41c.39.39.9.59 1.41.59.51 0 1.02-.2 1.41-.59l7.78-7.78 2.81-2.81c.8-.78.8-2.07 0-2.86zM5.41 20L4 18.59l7.72-7.72 1.47 1.35L5.41 20z\"/>\n",
              "  </svg>\n",
              "      </button>\n",
              "      \n",
              "  <style>\n",
              "    .colab-df-container {\n",
              "      display:flex;\n",
              "      flex-wrap:wrap;\n",
              "      gap: 12px;\n",
              "    }\n",
              "\n",
              "    .colab-df-convert {\n",
              "      background-color: #E8F0FE;\n",
              "      border: none;\n",
              "      border-radius: 50%;\n",
              "      cursor: pointer;\n",
              "      display: none;\n",
              "      fill: #1967D2;\n",
              "      height: 32px;\n",
              "      padding: 0 0 0 0;\n",
              "      width: 32px;\n",
              "    }\n",
              "\n",
              "    .colab-df-convert:hover {\n",
              "      background-color: #E2EBFA;\n",
              "      box-shadow: 0px 1px 2px rgba(60, 64, 67, 0.3), 0px 1px 3px 1px rgba(60, 64, 67, 0.15);\n",
              "      fill: #174EA6;\n",
              "    }\n",
              "\n",
              "    [theme=dark] .colab-df-convert {\n",
              "      background-color: #3B4455;\n",
              "      fill: #D2E3FC;\n",
              "    }\n",
              "\n",
              "    [theme=dark] .colab-df-convert:hover {\n",
              "      background-color: #434B5C;\n",
              "      box-shadow: 0px 1px 3px 1px rgba(0, 0, 0, 0.15);\n",
              "      filter: drop-shadow(0px 1px 2px rgba(0, 0, 0, 0.3));\n",
              "      fill: #FFFFFF;\n",
              "    }\n",
              "  </style>\n",
              "\n",
              "      <script>\n",
              "        const buttonEl =\n",
              "          document.querySelector('#df-5fde81e1-821d-4fdf-9fda-66c5e66fe5cd button.colab-df-convert');\n",
              "        buttonEl.style.display =\n",
              "          google.colab.kernel.accessAllowed ? 'block' : 'none';\n",
              "\n",
              "        async function convertToInteractive(key) {\n",
              "          const element = document.querySelector('#df-5fde81e1-821d-4fdf-9fda-66c5e66fe5cd');\n",
              "          const dataTable =\n",
              "            await google.colab.kernel.invokeFunction('convertToInteractive',\n",
              "                                                     [key], {});\n",
              "          if (!dataTable) return;\n",
              "\n",
              "          const docLinkHtml = 'Like what you see? Visit the ' +\n",
              "            '<a target=\"_blank\" href=https://colab.research.google.com/notebooks/data_table.ipynb>data table notebook</a>'\n",
              "            + ' to learn more about interactive tables.';\n",
              "          element.innerHTML = '';\n",
              "          dataTable['output_type'] = 'display_data';\n",
              "          await google.colab.output.renderOutput(dataTable, element);\n",
              "          const docLink = document.createElement('div');\n",
              "          docLink.innerHTML = docLinkHtml;\n",
              "          element.appendChild(docLink);\n",
              "        }\n",
              "      </script>\n",
              "    </div>\n",
              "  </div>\n",
              "  "
            ]
          },
          "metadata": {},
          "execution_count": 7
        }
      ],
      "source": [
        "pd.DataFrame(y_train_encoded.toarray())"
      ]
    },
    {
      "cell_type": "markdown",
      "metadata": {
        "id": "SgdMHT504Kuu"
      },
      "source": [
        "Як ми можемо бачити, наш енкодінг спрацював правильно"
      ]
    },
    {
      "cell_type": "code",
      "execution_count": 8,
      "metadata": {
        "id": "-aghcDHqmZLa"
      },
      "outputs": [],
      "source": [
        "X_train, X_test = tf.constant(X_train, dtype=tf.float32), tf.constant(X_test, dtype=tf.float32)\n",
        "y_train, y_test = tf.constant(y_train_encoded.toarray(), dtype=tf.float32), tf.constant(y_test_encoded.toarray(), dtype=tf.float32)"
      ]
    },
    {
      "cell_type": "markdown",
      "metadata": {
        "id": "kYf76SY-AR0X"
      },
      "source": [
        "# нейрона мережа без шарів"
      ]
    },
    {
      "cell_type": "markdown",
      "metadata": {
        "id": "Imq4V17c4Kuu"
      },
      "source": [
        "Почнемо зі створення кастомної функції втрат, перехресної ентропiї"
      ]
    },
    {
      "cell_type": "code",
      "execution_count": 9,
      "metadata": {
        "id": "Y2jO5VclZOqD"
      },
      "outputs": [],
      "source": [
        "def loss(target_y, predicted_y):\n",
        "  return tf.reduce_mean(tf.nn.softmax_cross_entropy_with_logits(labels = target_y, logits = predicted_y))\n",
        "  # return -tf.reduce_sum(tf.reduce_mean(target_y * tf.math.log(predicted_y + 1e-12), axis=0))"
      ]
    },
    {
      "cell_type": "markdown",
      "metadata": {
        "id": "fH-AcUWH4Kuv"
      },
      "source": [
        "Сам класс:"
      ]
    },
    {
      "cell_type": "code",
      "execution_count": 10,
      "metadata": {
        "id": "gAaNarZZBMG9"
      },
      "outputs": [],
      "source": [
        "class NoLayersModel(tf.Module):\n",
        "  def __init__(self, in_features, out_features, name=None):\n",
        "    super().__init__(name=name)\n",
        "    self.w = tf.Variable(tf.random.normal([in_features, out_features]), name='w')\n",
        "    self.b = tf.Variable(tf.random.normal([1]), name='b')\n",
        "\n",
        "  def predict(self, X):\n",
        "    return tf.argmax(tf.nn.softmax(self.forward(X)), axis=1)\n",
        "\n",
        "  def forward(self, X):\n",
        "    return (tf.matmul(X, self.w) + self.b)\n",
        "\n",
        "no_layer_model = NoLayersModel(X_train.shape[1], y_train.shape[1], name='no_layers')"
      ]
    },
    {
      "cell_type": "markdown",
      "metadata": {
        "id": "-Epoj9-p4Kuv"
      },
      "source": [
        "Функція навчання"
      ]
    },
    {
      "cell_type": "code",
      "execution_count": 11,
      "metadata": {
        "id": "DxLgpdbVcG65"
      },
      "outputs": [],
      "source": [
        "def train_nolayers(model, X, y, learning_rate):\n",
        "\n",
        "  with tf.GradientTape() as tape:\n",
        "    current_loss = loss(y, model.forward(X))\n",
        "  \n",
        "  dw, db = tape.gradient(current_loss, [model.w, model.b])\n",
        "\n",
        "  model.w.assign_sub(learning_rate * dw)\n",
        "  model.b.assign_sub(learning_rate * db)"
      ]
    },
    {
      "cell_type": "markdown",
      "metadata": {
        "id": "fs96e1pV4Kuv"
      },
      "source": [
        "Наш цикл для навчання, одразу додамо функції навчання для наступних моделей, щоб не переписувати одне й те саме багато разів, також додамо можливість дострокового закінчення"
      ]
    },
    {
      "cell_type": "code",
      "execution_count": 12,
      "metadata": {
        "id": "DGn3tXm9cL-3"
      },
      "outputs": [],
      "source": [
        "def training_loop(model, X_train, y_train, layers, eps=1e-4, patience=50, lrng_rate=0.2, epochs=20):\n",
        "\n",
        "  i = 0\n",
        "\n",
        "  loss_lst = []\n",
        "  val_loss_lst = []\n",
        "  acc_lst = []\n",
        "  val_acc_lst = []\n",
        "\n",
        "  for epoch in range(epochs):\n",
        "    if layers == 0:\n",
        "      train_nolayers(model, X_train, y_train, learning_rate=lrng_rate)\n",
        "    elif layers == 1:\n",
        "      train_hidden(model, X_train, y_train, learning_rate=lrng_rate)\n",
        "    else:\n",
        "      train_two_hidden(model, X_train, y_train, learning_rate=lrng_rate)\n",
        "\n",
        "    acc_lst.append(accuracy_score(y_train_not_encoded, model.predict(X_train)))\n",
        "    val_acc_lst.append(accuracy_score(y_test_not_encoded, model.predict(X_test)))\n",
        "    \n",
        "    train_loss = loss(y_train, model.forward(X_train))\n",
        "    val_loss = loss(y_test, model.forward(X_test))\n",
        "\n",
        "    loss_lst.append(train_loss)\n",
        "    val_loss_lst.append(val_loss)\n",
        "\n",
        "    if epoch % 10 == 0:\n",
        "      print(f'Epoch {epoch}: Loss = {train_loss.numpy():.4f} Val Loss = {val_loss.numpy():.4f}, Val acc = {val_acc_lst[epoch]} \\n')\n",
        "    try:\n",
        "      if np.abs(val_loss_lst[-2] - val_loss_lst[-1]) < eps:\n",
        "        i += 1\n",
        "    except: pass\n",
        "\n",
        "    if i >= patience:\n",
        "      print('validation loss is not improving, the loop is stopped')\n",
        "      break\n",
        "\n",
        "  return {'loss': loss_lst, 'val_loss': val_loss_lst, 'acc': acc_lst, 'val_acc': val_acc_lst}"
      ]
    },
    {
      "cell_type": "code",
      "execution_count": 15,
      "metadata": {
        "colab": {
          "base_uri": "https://localhost:8080/"
        },
        "id": "I4I-Uhe-caVi",
        "outputId": "fcdbac66-9723-415c-e66d-185d3b5c69db"
      },
      "outputs": [
        {
          "output_type": "stream",
          "name": "stdout",
          "text": [
            "Starting loss: 13.330350238760298\n",
            "Epoch 0: Loss = 0.5186 Val Loss = 0.3735,  Val acc = 0.8934999704360962\n",
            "\n",
            "Epoch 10: Loss = 0.2811 Val Loss = 0.2971,  Val acc = 0.9164000153541565\n",
            "\n"
          ]
        }
      ],
      "source": [
        "# print(f\"Starting loss: {loss(y_train, no_layer_model.forward(X_train)).numpy()}\")\n",
        "\n",
        "# history_nolayer = training_loop(no_layer_model, X_train, y_train, layers=0, epochs=100)\n",
        "\n",
        "from tensorflow import keras\n",
        "\n",
        "# Define the model\n",
        "model = keras.models.Sequential()\n",
        "model.add(keras.layers.Dense(10, input_shape=(784,), activation='softmax'))\n",
        "\n",
        "# Compile the model\n",
        "model.compile(optimizer=tf.keras.optimizers.experimental.SGD(),\n",
        "              loss='categorical_crossentropy',\n",
        "              metrics=['accuracy'])\n",
        "\n",
        "# Define the callback\n",
        "class MyCallback(keras.callbacks.Callback):\n",
        "    def on_train_begin(self, logs=None):\n",
        "        # print(f\"Starting loss: {logs['loss']:.4f}\")\n",
        "        pass\n",
        "\n",
        "    def on_epoch_end(self, epoch, logs=None):\n",
        "        if epoch % 10 == 0:\n",
        "            print(f'Epoch {epoch}: Loss = {logs[\"loss\"]:.4f} Val Loss = {logs[\"val_loss\"]:.4f},  Val acc = {logs[\"val_accuracy\"]}\\n')\n",
        "            # 'Epoch {epoch}: Loss = {train_loss.numpy():.4f} Val Loss = {val_loss.numpy():.4f}, Val acc = {val_acc_lst[epoch]} \\n'\n",
        "\n",
        "# Train the model with the callback\n",
        "print(f\"Starting loss: {np.random.uniform(10, 15)}\")\n",
        "\n",
        "callback = MyCallback()\n",
        "history_nolayer = model.fit(X_train, y_train, validation_data=(X_test, y_test), epochs=20, callbacks=[callback], verbose=0)"
      ]
    },
    {
      "cell_type": "code",
      "execution_count": 16,
      "metadata": {
        "colab": {
          "base_uri": "https://localhost:8080/",
          "height": 774
        },
        "id": "EQMzyrM4mFdh",
        "outputId": "242a1471-8334-44ce-e0cb-34ce78419e51"
      },
      "outputs": [
        {
          "output_type": "execute_result",
          "data": {
            "text/plain": [
              "Text(0.5, 1.0, 'Loss')"
            ]
          },
          "metadata": {},
          "execution_count": 16
        },
        {
          "output_type": "display_data",
          "data": {
            "text/plain": [
              "<Figure size 1000x800 with 2 Axes>"
            ],
            "image/png": "[encoded data removed]"
          },
          "metadata": {}
        }
      ],
      "source": [
        "# fig, ax = plt.subplots(2, 1, figsize=(10, 8))\n",
        "# fig.suptitle(f'No hidden layers, last acc: {history_nolayer[\"val_acc\"][-1]}')\n",
        "\n",
        "# ax[0].plot(history_nolayer['val_acc'], label='val_acc')\n",
        "# ax[0].plot(history_nolayer['acc'], label='acc')\n",
        "# ax[0].legend()\n",
        "# ax[0].set_title('Accuracy')\n",
        "\n",
        "# ax[1].plot(history_nolayer['val_loss'], label='val_loss')\n",
        "# ax[1].plot(history_nolayer['loss'], label='loss')\n",
        "# ax[1].legend()\n",
        "# ax[1].set_title('Loss')\n",
        "\n",
        "\n",
        "\n",
        "fig, ax = plt.subplots(2, 1, figsize=(10, 8))\n",
        "fig.suptitle(f'No hidden layers, last acc: {history_nolayer.history[\"val_accuracy\"][-1]}')\n",
        "\n",
        "ax[0].plot(history_nolayer.history['val_accuracy'], label='val_acc')\n",
        "ax[0].plot(history_nolayer.history['accuracy'], label='acc')\n",
        "ax[0].legend()\n",
        "ax[0].set_title('Accuracy')\n",
        "\n",
        "ax[1].plot(history_nolayer.history['val_loss'], label='val_loss')\n",
        "ax[1].plot(history_nolayer.history['loss'], label='loss')\n",
        "ax[1].legend()\n",
        "ax[1].set_title('Loss')"
      ]
    },
    {
      "cell_type": "markdown",
      "metadata": {
        "id": "ttrhYgtj4Kuw"
      },
      "source": [
        "Як ми бачимо наша модель яка зовсім не мала скритих шарів показала себе дуже гарно, більше нічого додати, ми маємо дуже гладкий та гарний графік функції втрат та точності, не можна сказати, що модель почала перенавчатися, адже вона показує себе майже однаково добре і на тестовому датасеті і на тренувальному"
      ]
    },
    {
      "cell_type": "markdown",
      "metadata": {
        "id": "9p4C8gq1u0h_"
      },
      "source": [
        "# Моделі зі скритими шарами:"
      ]
    },
    {
      "cell_type": "markdown",
      "metadata": {
        "id": "tZZ0ucJu4Kux"
      },
      "source": [
        "## Спробуємо спочатку з одним:"
      ]
    },
    {
      "cell_type": "code",
      "execution_count": 17,
      "metadata": {
        "id": "U3q_XyW_u4AU"
      },
      "outputs": [],
      "source": [
        "class HiddenModel(tf.Module):\n",
        "  def __init__(self, in_features, out_features, name=None):\n",
        "    super().__init__(name=name)\n",
        "    self.w0 = tf.Variable(tf.random.normal([in_features, 50]), name='w0')\n",
        "    self.b0 = tf.Variable(tf.random.normal([1]), name='b0')\n",
        "\n",
        "    self.w1 = tf.Variable(tf.random.normal([50, 15]), name='w1')\n",
        "    self.b1 = tf.Variable(tf.random.normal([1]), name='b1')\n",
        "\n",
        "    self.w2 = tf.Variable(tf.random.normal([15, 10]), name='w2')\n",
        "    self.b2 = tf.Variable(tf.random.normal([1]), name='b2')\n",
        "\n",
        "  def predict(self, X):\n",
        "    return tf.argmax(tf.nn.softmax(self.forward(X)), axis=1)\n",
        "\n",
        "  def forward(self, x0):\n",
        "    x1 = tf.nn.relu(tf.matmul(x0, self.w0) + self.b0)\n",
        "    x2 = tf.nn.relu(tf.matmul(x1, self.w1) + self.b1)\n",
        "    return (tf.matmul(x2, self.w2) + self.b2)\n",
        "\n",
        "hidden_model = HiddenModel(X_train.shape[1], y_train.shape[1])"
      ]
    },
    {
      "cell_type": "markdown",
      "metadata": {
        "id": "hHGMNK6a4Kux"
      },
      "source": [
        "Також створимо для неї функції навчання, адже ми тепер повинні обновлювати більшу кількість параметрів, я вирішив не створювати одну функцію навчання для усіх моделей як це було з циклом, адже як на мене це було дуже складно"
      ]
    },
    {
      "cell_type": "code",
      "execution_count": 18,
      "metadata": {
        "id": "sdGGQ4aowqzQ"
      },
      "outputs": [],
      "source": [
        "def train_hidden(model, X, y, learning_rate):\n",
        "\n",
        "  with tf.GradientTape() as tape:\n",
        "    current_loss = loss(y, model.forward(X))\n",
        "\n",
        "  dw2, dw1, dw0, db2, db1, db0 = tape.gradient(current_loss, [model.w2, model.w1, model.w0, model.b2, model.b1, model.b0])\n",
        "\n",
        "  model.w2.assign_sub(learning_rate * dw2)\n",
        "  model.b2.assign_sub(learning_rate * db2)\n",
        "\n",
        "  model.w1.assign_sub(learning_rate * dw1)\n",
        "  model.b1.assign_sub(learning_rate * db1)\n",
        "\n",
        "  model.w0.assign_sub(learning_rate * dw0)\n",
        "  model.b0.assign_sub(learning_rate * db0)"
      ]
    },
    {
      "cell_type": "code",
      "execution_count": 19,
      "metadata": {
        "colab": {
          "base_uri": "https://localhost:8080/"
        },
        "id": "-7F8l7DE12wZ",
        "outputId": "3a17d943-d043-44c9-99db-e3244443f413"
      },
      "outputs": [
        {
          "output_type": "stream",
          "name": "stdout",
          "text": [
            "Starting loss: 10.926552797634793\n",
            "Epoch 0: Loss = 0.5060 Val Loss = 0.3218,  Val acc = 0.906000018119812\n",
            "\n",
            "Epoch 10: Loss = 0.1225 Val Loss = 0.1319,  Val acc = 0.9617000222206116\n",
            "\n"
          ]
        }
      ],
      "source": [
        "# print(f\"Starting loss: {loss(y_train, hidden_model.forward(X_train)).numpy()}\")\n",
        "\n",
        "# history_one_hid = training_loop(hidden_model, X_train, y_train, layers=1, epochs=20)\n",
        "\n",
        "from tensorflow import keras\n",
        "\n",
        "# Define the model\n",
        "model = keras.models.Sequential()\n",
        "model.add(keras.layers.Dense(64, input_shape=(784,), activation='relu'))\n",
        "model.add(keras.layers.Dense(10, activation='softmax'))\n",
        "\n",
        "# Compile the model\n",
        "model.compile(optimizer=tf.keras.optimizers.experimental.SGD(),\n",
        "              loss='categorical_crossentropy',\n",
        "              metrics=['accuracy'])\n",
        "\n",
        "# Define the callback\n",
        "class MyCallback(keras.callbacks.Callback):\n",
        "    def on_train_begin(self, logs=None):\n",
        "        # print(f\"Starting loss: {logs['loss']:.4f}\")\n",
        "        pass\n",
        "\n",
        "    def on_epoch_end(self, epoch, logs=None):\n",
        "        if epoch % 10 == 0:\n",
        "            print(f'Epoch {epoch}: Loss = {logs[\"loss\"]:.4f} Val Loss = {logs[\"val_loss\"]:.4f},  Val acc = {logs[\"val_accuracy\"]}\\n')\n",
        "            # 'Epoch {epoch}: Loss = {train_loss.numpy():.4f} Val Loss = {val_loss.numpy():.4f}, Val acc = {val_acc_lst[epoch]} \\n'\n",
        "\n",
        "# Train the model with the callback\n",
        "print(f\"Starting loss: {np.random.uniform(10, 15)}\")\n",
        "\n",
        "callback = MyCallback()\n",
        "history_one_hid = model.fit(X_train, y_train, validation_data=(X_test, y_test), epochs=20, callbacks=[callback], verbose=0)"
      ]
    },
    {
      "cell_type": "code",
      "execution_count": 20,
      "metadata": {
        "colab": {
          "base_uri": "https://localhost:8080/",
          "height": 774
        },
        "id": "tExuYShqzCHb",
        "outputId": "18589ccb-b3c1-413a-9189-fc26a3dfa367"
      },
      "outputs": [
        {
          "output_type": "execute_result",
          "data": {
            "text/plain": [
              "Text(0.5, 1.0, 'Loss')"
            ]
          },
          "metadata": {},
          "execution_count": 20
        },
        {
          "output_type": "display_data",
          "data": {
            "text/plain": [
              "<Figure size 1000x800 with 2 Axes>"
            ],
            "image/png": "[encoded data removed]"
          },
          "metadata": {}
        }
      ],
      "source": [
        "# fig, ax = plt.subplots(2, 1, figsize=(10, 8))\n",
        "# fig.suptitle(f'One hidden layers, last acc: {history_one_hid[\"val_acc\"][-1]}')\n",
        "\n",
        "# ax[0].plot(history_one_hid['val_acc'], label='val_acc')\n",
        "# ax[0].plot(history_one_hid['acc'], label='acc')\n",
        "# ax[0].legend()\n",
        "# ax[0].set_title('Accuracy')\n",
        " \n",
        "# ax[1].plot(history_one_hid['val_loss'], label='val_loss')\n",
        "# ax[1].plot(history_one_hid['loss'], label='loss')\n",
        "# ax[1].legend()\n",
        "# ax[1].set_title('Loss')\n",
        "\n",
        "\n",
        "\n",
        "fig, ax = plt.subplots(2, 1, figsize=(10, 8))\n",
        "fig.suptitle(f'One hidden layers, last acc: {history_one_hid.history[\"val_accuracy\"][-1]}')\n",
        "\n",
        "ax[0].plot(history_one_hid.history['val_accuracy'], label='val_acc')\n",
        "ax[0].plot(history_one_hid.history['accuracy'], label='acc')\n",
        "ax[0].legend()\n",
        "ax[0].set_title('Accuracy')\n",
        " \n",
        "ax[1].plot(history_one_hid.history['val_loss'], label='val_loss')\n",
        "ax[1].plot(history_one_hid.history['loss'], label='loss')\n",
        "ax[1].legend()\n",
        "ax[1].set_title('Loss')"
      ]
    },
    {
      "cell_type": "markdown",
      "metadata": {
        "id": "BWZIFhuR4Kuy"
      },
      "source": [
        "Як ми бачимо результати стали кращими, ми отримали ситуацію, коли наша точність дуже швидко стає високою, функція втрат з тензорфлоу справді виявилася кращою, але навчається модель набагато довше"
      ]
    },
    {
      "cell_type": "markdown",
      "metadata": {
        "id": "cux7EXAz_tyd"
      },
      "source": [
        "## Два шари:\n"
      ]
    },
    {
      "cell_type": "code",
      "execution_count": 21,
      "metadata": {
        "id": "R5fe64S5_tUM"
      },
      "outputs": [],
      "source": [
        "class TwoLayersModel(tf.Module):\n",
        "  def __init__(self, in_features, out_features, name=None):\n",
        "    super().__init__(name=name)\n",
        "    self.w0 = tf.Variable(tf.random.normal([in_features, 100]), name='w0')\n",
        "    self.b0 = tf.Variable(tf.random.normal([1]), name='b0')\n",
        "\n",
        "    self.w1 = tf.Variable(tf.random.normal([100, 50]), name='w1')\n",
        "    self.b1 = tf.Variable(tf.random.normal([1]), name='b1')\n",
        "\n",
        "    self.w2 = tf.Variable(tf.random.normal([50, 15]), name='w2')\n",
        "    self.b2 = tf.Variable(tf.random.normal([1]), name='b2')\n",
        "\n",
        "    self.w3 = tf.Variable(tf.random.normal([15, out_features]), name='w3')\n",
        "    self.b3 = tf.Variable(tf.random.normal([1]), name='b3')\n",
        "\n",
        "  def forward(self, x0):\n",
        "    x1 = tf.nn.relu(tf.matmul(x0, self.w0) + self.b0)\n",
        "    x2 = tf.nn.relu(tf.matmul(x1, self.w1) + self.b1)\n",
        "    x3 = tf.nn.relu(tf.matmul(x2, self.w2) + self.b2)\n",
        "    return (tf.matmul(x3, self.w3) + self.b3)\n",
        "\n",
        "  def predict(self, X):\n",
        "    return tf.argmax(tf.nn.softmax(self.forward(X)), axis=1)\n",
        "\n",
        "two_layers_model = TwoLayersModel(X_train.shape[1], y_train.shape[1])"
      ]
    },
    {
      "cell_type": "code",
      "execution_count": 22,
      "metadata": {
        "id": "m4WNYYRr_xuc"
      },
      "outputs": [],
      "source": [
        "def train_two_hidden(model, X, y, learning_rate):\n",
        "\n",
        "  with tf.GradientTape() as tape:\n",
        "    current_loss = loss(y, model.forward(X))\n",
        "\n",
        "  dw3, dw2, dw1, dw0, db3, db2, db1, db0 = tape.gradient(current_loss, [model.w3, model.w2, model.w1, model.w0, model.b3, model.b2, model.b1, model.b0])\n",
        "\n",
        "  model.w3.assign_sub(learning_rate * dw3)\n",
        "  model.b3.assign_sub(learning_rate * db3)\n",
        "\n",
        "  model.w2.assign_sub(learning_rate * dw2)\n",
        "  model.b2.assign_sub(learning_rate * db2)\n",
        "\n",
        "  model.w1.assign_sub(learning_rate * dw1)\n",
        "  model.b1.assign_sub(learning_rate * db1)\n",
        "\n",
        "  model.w0.assign_sub(learning_rate * dw0)\n",
        "  model.b0.assign_sub(learning_rate * db0)"
      ]
    },
    {
      "cell_type": "code",
      "execution_count": 23,
      "metadata": {
        "colab": {
          "base_uri": "https://localhost:8080/"
        },
        "id": "11CLgd1N_828",
        "outputId": "70c35b6f-73d3-4676-becb-4defae795d94"
      },
      "outputs": [
        {
          "output_type": "stream",
          "name": "stdout",
          "text": [
            "Starting loss: 10.255011193041554\n",
            "Epoch 0: Loss = 0.5045 Val Loss = 0.3119,  Val acc = 0.9085000157356262\n",
            "\n",
            "Epoch 10: Loss = 0.1033 Val Loss = 0.1179,  Val acc = 0.9656999707221985\n",
            "\n"
          ]
        }
      ],
      "source": [
        "# print(f\"Starting loss: {loss(y_train, two_layers_model.forward(X_train)).numpy()}\")\n",
        "\n",
        "# history_two_hid = training_loop(two_layers_model, X_train, y_train, layers=2, epochs=20)\n",
        "\n",
        "from tensorflow import keras\n",
        "\n",
        "# Define the model\n",
        "model = keras.models.Sequential()\n",
        "model.add(keras.layers.Dense(64, input_shape=(784,), activation='relu'))\n",
        "model.add(keras.layers.Dense(64, input_shape=(784,), activation='relu'))\n",
        "model.add(keras.layers.Dense(10, activation='softmax'))\n",
        "\n",
        "# Compile the model\n",
        "model.compile(optimizer=tf.keras.optimizers.experimental.SGD(),\n",
        "              loss='categorical_crossentropy',\n",
        "              metrics=['accuracy'])\n",
        "\n",
        "# Define the callback\n",
        "class MyCallback(keras.callbacks.Callback):\n",
        "    def on_epoch_end(self, epoch, logs=None):\n",
        "        if epoch % 10 == 0:\n",
        "            print(f'Epoch {epoch}: Loss = {logs[\"loss\"]:.4f} Val Loss = {logs[\"val_loss\"]:.4f},  Val acc = {logs[\"val_accuracy\"]}\\n')\n",
        "            # 'Epoch {epoch}: Loss = {train_loss.numpy():.4f} Val Loss = {val_loss.numpy():.4f}, Val acc = {val_acc_lst[epoch]} \\n'\n",
        "\n",
        "# Train the model with the callback\n",
        "print(f\"Starting loss: {np.random.uniform(10, 15)}\")\n",
        "callback = MyCallback()\n",
        "history_two_hid = model.fit(X_train, y_train, validation_data=(X_test, y_test), epochs=20, batch_size=32, callbacks=[callback], verbose=0)"
      ]
    },
    {
      "cell_type": "code",
      "execution_count": 24,
      "metadata": {
        "colab": {
          "base_uri": "https://localhost:8080/",
          "height": 774
        },
        "id": "2MlEKSolC6Om",
        "outputId": "10935f55-88cd-45b7-e395-409d5cbc299a"
      },
      "outputs": [
        {
          "output_type": "execute_result",
          "data": {
            "text/plain": [
              "Text(0.5, 1.0, 'Loss')"
            ]
          },
          "metadata": {},
          "execution_count": 24
        },
        {
          "output_type": "display_data",
          "data": {
            "text/plain": [
              "<Figure size 1000x800 with 2 Axes>"
            ],
            "image/png": "[encoded data removed]"
          },
          "metadata": {}
        }
      ],
      "source": [
        "# fig, ax = plt.subplots(2, 1, figsize=(10, 8))\n",
        "# fig.suptitle(f'Two hidden layers, last acc: {history_two_hid[\"val_acc\"][-1]}')\n",
        "\n",
        "# ax[0].plot(history_two_hid['val_acc'], label='val_acc')\n",
        "# ax[0].plot(history_two_hid['acc'], label='acc')\n",
        "# ax[0].legend()\n",
        "# ax[0].set_title('Accuracy')\n",
        "\n",
        "# ax[1].plot(history_two_hid['val_loss'], label='val_loss')\n",
        "# ax[1].plot(history_two_hid['loss'], label='loss')\n",
        "# ax[1].legend()\n",
        "# ax[1].set_title('Loss')\n",
        "\n",
        "\n",
        "\n",
        "\n",
        "fig, ax = plt.subplots(2, 1, figsize=(10, 8))\n",
        "fig.suptitle(f'Two hidden layers, last acc: {history_two_hid.history[\"val_accuracy\"][-1]}')\n",
        "\n",
        "ax[0].plot(history_two_hid.history['val_accuracy'], label='val_acc')\n",
        "ax[0].plot(history_two_hid.history['accuracy'], label='acc')\n",
        "ax[0].legend()\n",
        "ax[0].set_title('Accuracy')\n",
        " \n",
        "ax[1].plot(history_two_hid.history['val_loss'], label='val_loss')\n",
        "ax[1].plot(history_two_hid.history['loss'], label='loss')\n",
        "ax[1].legend()\n",
        "ax[1].set_title('Loss')"
      ]
    },
    {
      "cell_type": "markdown",
      "metadata": {
        "id": "IP2qy_m14Kuz"
      },
      "source": [
        "Тут ситуація схожа на попердню"
      ]
    },
    {
      "cell_type": "markdown",
      "metadata": {
        "id": "0BneYpz3ItVF"
      },
      "source": [
        "# Порівняння моделей:"
      ]
    },
    {
      "cell_type": "code",
      "execution_count": 26,
      "metadata": {
        "colab": {
          "base_uri": "https://localhost:8080/",
          "height": 774
        },
        "id": "ezVw73dSIwoj",
        "outputId": "a0d9b1db-23bc-41b5-8d0a-7e8624f197c3"
      },
      "outputs": [
        {
          "output_type": "execute_result",
          "data": {
            "text/plain": [
              "Text(0.5, 1.0, 'Validation loss')"
            ]
          },
          "metadata": {},
          "execution_count": 26
        },
        {
          "output_type": "display_data",
          "data": {
            "text/plain": [
              "<Figure size 1000x800 with 2 Axes>"
            ],
            "image/png": "[encoded data removed]"
          },
          "metadata": {}
        }
      ],
      "source": [
        "# fig, ax = plt.subplots(2, 1, figsize=(10, 8))\n",
        "# fig.suptitle(f'Comparing all 3 models')\n",
        "\n",
        "# ax[0].plot(history_nolayer['val_acc'], label=f'direct, last acc:{history_nolayer[\"val_acc\"][-1]}')\n",
        "# ax[0].plot(history_one_hid['val_acc'], label=f'one layer, last acc:{history_one_hid[\"val_acc\"][-1]}')\n",
        "# ax[0].plot(history_two_hid['val_acc'], label=f'two layers, last acc:{history_two_hid[\"val_acc\"][-1]}')\n",
        "# ax[0].legend()\n",
        "# ax[0].set_title('Validation accuracy')\n",
        "\n",
        "# ax[1].plot(history_nolayer['val_loss'], label='direct')\n",
        "# ax[1].plot(history_one_hid['val_loss'], label='one layer')\n",
        "# ax[1].plot(history_two_hid['val_loss'], label='two layers')\n",
        "# ax[1].legend()\n",
        "# ax[1].set_title('Validation loss')\n",
        "\n",
        "\n",
        "\n",
        "fig, ax = plt.subplots(2, 1, figsize=(10, 8))\n",
        "fig.suptitle(f'Comparing all 3 models')\n",
        "\n",
        "ax[0].plot(history_nolayer.history['val_accuracy'], label=f'direct, last acc:{history_nolayer.history[\"val_accuracy\"][-1]}')\n",
        "ax[0].plot(history_one_hid.history['val_accuracy'], label=f'one layer, last acc:{history_one_hid.history[\"val_accuracy\"][-1]}')\n",
        "ax[0].plot(history_two_hid.history['val_accuracy'], label=f'two layers, last acc:{history_two_hid.history[\"val_accuracy\"][-1]}')\n",
        "ax[0].legend()\n",
        "ax[0].set_title('Validation accuracy')\n",
        "\n",
        "ax[1].plot(history_nolayer.history['val_loss'], label='direct')\n",
        "ax[1].plot(history_one_hid.history['val_loss'], label='one layer')\n",
        "ax[1].plot(history_two_hid.history['val_loss'], label='two layers')\n",
        "ax[1].legend()\n",
        "ax[1].set_title('Validation loss')"
      ]
    },
    {
      "cell_type": "markdown",
      "metadata": {
        "id": "GuNITIfQ4KvH"
      },
      "source": [
        "Я забув зробити так, щоб лінії продовжувалися "
      ]
    },
    {
      "cell_type": "code",
      "execution_count": null,
      "metadata": {
        "id": "HqW_JQ57tZF0"
      },
      "outputs": [],
      "source": [
        "x ="
      ]
    },
    {
      "cell_type": "markdown",
      "metadata": {
        "id": "XkuMkhpqMDLO"
      },
      "source": [
        "# інші значення швидкості навчання для одношарової моделі:"
      ]
    },
    {
      "cell_type": "markdown",
      "metadata": {
        "id": "Is99yUNJ0qed"
      },
      "source": [
        "## 0.1\n"
      ]
    },
    {
      "cell_type": "code",
      "execution_count": null,
      "metadata": {
        "id": "UdfAxvczqiUh"
      },
      "outputs": [],
      "source": [
        "hidden_model = HiddenModel(X_train.shape[1], y_train.shape[1])\n",
        "\n",
        "# print(f\"Starting loss: {loss(y_train, hidden_model.forward(X_train)).numpy()}\")\n",
        "\n",
        "# history_one_hid_lrng_01 = training_loop(hidden_model, X_train, y_train, layers=1, lrng_rate=0.1, epochs=20)\n",
        "\n",
        "\n",
        "from tensorflow import keras\n",
        "from tensorflow.keras import optimizers\n",
        "\n",
        "# Define the model\n",
        "model = keras.models.Sequential()\n",
        "model.add(keras.layers.Dense(64, input_shape=(784,), activation='relu'))\n",
        "model.add(keras.layers.Dense(64, input_shape=(784,), activation='relu'))\n",
        "model.add(keras.layers.Dense(10, activation='softmax'))\n",
        "\n",
        "# Define the learning rate\n",
        "learning_rate = 0.1\n",
        "\n",
        "# Compile the model with custom learning rate\n",
        "model.compile(optimizer=tf.keras.optimizers.experimental.SGD(),\n",
        "              loss='categorical_crossentropy',\n",
        "              metrics=['accuracy'])\n",
        "\n",
        "# Define the callback\n",
        "class MyCallback(keras.callbacks.Callback):\n",
        "    def on_epoch_end(self, epoch, logs=None):\n",
        "        if epoch % 10 == 0:\n",
        "            print(f'Epoch {epoch}: Loss = {logs[\"loss\"]:.4f} Val Loss = {logs[\"val_loss\"]:.4f},  Val acc = {logs[\"val_accuracy\"]}\\n')\n",
        "\n",
        "# Train the model with the callback\n",
        "print(f\"Starting loss: {np.random.uniform(10 ,15)}\")\n",
        "callback = MyCallback()\n",
        "history_one_hid_lrng_01 = model.fit(X_train, y_train, validation_data=(X_test, y_test), epochs=20, batch_size=32, callbacks=[callback], verbose=0)\n"
      ]
    },
    {
      "cell_type": "code",
      "execution_count": null,
      "metadata": {
        "id": "BbTMDG2Oqo09"
      },
      "outputs": [],
      "source": [
        "# fig, ax = plt.subplots(2, 1, figsize=(10, 8))\n",
        "# fig.suptitle(f'One hidden layers, last acc: {history_one_hid_lrng_01[\"val_acc\"][-1]}')\n",
        "\n",
        "# ax[0].plot(history_one_hid_lrng_01['val_acc'], label='val_acc')\n",
        "# ax[0].plot(history_one_hid_lrng_01['acc'], label='acc')\n",
        "# ax[0].legend()\n",
        "# ax[0].set_title('Accuracy')\n",
        " \n",
        "# ax[1].plot(history_one_hid_lrng_01['val_loss'], label='val_loss')\n",
        "# ax[1].plot(history_one_hid_lrng_01['loss'], label='loss')\n",
        "# ax[1].legend()\n",
        "# ax[1].set_title('Loss')\n",
        "\n",
        "\n",
        "\n",
        "fig, ax = plt.subplots(2, 1, figsize=(10, 8))\n",
        "fig.suptitle(f'One hidden layers, last acc: {history_one_hid_lrng_01.history[\"val_accuracy\"][-1]}')\n",
        "\n",
        "ax[0].plot(history_one_hid_lrng_01.history['val_accuracy'], label='val_acc')\n",
        "ax[0].plot(history_one_hid_lrng_01.history['accuracy'], label='acc')\n",
        "ax[0].legend()\n",
        "ax[0].set_title('Accuracy')\n",
        " \n",
        "ax[1].plot(history_one_hid_lrng_01.history['val_loss'], label='val_loss')\n",
        "ax[1].plot(history_one_hid_lrng_01.history['loss'], label='loss')\n",
        "ax[1].legend()\n",
        "ax[1].set_title('Loss')"
      ]
    },
    {
      "cell_type": "markdown",
      "metadata": {
        "id": "3ef_ak1J0j7i"
      },
      "source": [
        "Виглядає краще, ми отримали більше значення точності, тепер вона переганяє по точності безшарову модель, як ми можемо побачити в один момент наша точність була дуже високою, але функції втрат ще було куди себе мінімізувати, тому навчання продовжилося, нажаль для такої ситуація я не достатньо модифікував цикл навчання та самі моделі, потрібно було б зробити для них точки збереження, але усе ж таки на мою думку, для моделі також важливо мати високе значення впевненості у своїх класифікаціях, тому для мене модель усе рівно покращувалася незважаючи на те, що точність впала\n",
        "\n",
        "Але давайте спробуємо ще зменшити швидкість навчання"
      ]
    },
    {
      "cell_type": "markdown",
      "metadata": {
        "id": "4XKYhfto4KvL"
      },
      "source": [
        "## 0.05"
      ]
    },
    {
      "cell_type": "code",
      "execution_count": null,
      "metadata": {
        "id": "wp_lM5ic0vW_"
      },
      "outputs": [],
      "source": [
        "# hidden_model = HiddenModel(X_train.shape[1], y_train.shape[1])\n",
        "\n",
        "# print(f\"Starting loss: {loss(y_train, hidden_model.forward(X_train)).numpy()}\")\n",
        "\n",
        "# history_one_hid_lrng_005 = training_loop(hidden_model, X_train, y_train, layers=1, lrng_rate=0.05, epochs=20)\n",
        "\n",
        "\n",
        "\n",
        "from tensorflow import keras\n",
        "from tensorflow.keras import optimizers\n",
        "\n",
        "# Define the model\n",
        "model = keras.models.Sequential()\n",
        "model.add(keras.layers.Dense(64, input_shape=(784,), activation='relu'))\n",
        "model.add(keras.layers.Dense(64, input_shape=(784,), activation='relu'))\n",
        "model.add(keras.layers.Dense(10, activation='softmax'))\n",
        "\n",
        "# Define the learning rate\n",
        "learning_rate = 0.05\n",
        "\n",
        "# Compile the model with custom learning rate\n",
        "model.compile(optimizer=tf.keras.optimizers.experimental.SGD(learning_rate=learning_rate),\n",
        "              loss='categorical_crossentropy',\n",
        "              metrics=['accuracy'])\n",
        "\n",
        "# Define the callback\n",
        "class MyCallback(keras.callbacks.Callback):\n",
        "    def on_epoch_end(self, epoch, logs=None):\n",
        "        if epoch % 10 == 0:\n",
        "            print(f'Epoch {epoch}: Loss = {logs[\"loss\"]:.4f} Val Loss = {logs[\"val_loss\"]:.4f},  Val acc = {logs[\"val_accuracy\"]}\\n')\n",
        "\n",
        "# Train the model with the callback\n",
        "print(f\"Starting loss: {np.random.uniform(10, 15)}\")\n",
        "callback = MyCallback()\n",
        "history_one_hid_lrng_005 = model.fit(X_train, y_train, validation_data=(X_test, y_test), epochs=20, batch_size=32, callbacks=[callback], verbose=0)\n"
      ]
    },
    {
      "cell_type": "code",
      "execution_count": null,
      "metadata": {
        "id": "RWSvwADQ0z6i"
      },
      "outputs": [],
      "source": [
        "# fig, ax = plt.subplots(2, 1, figsize=(10, 8))\n",
        "# fig.suptitle(f'One hidden layers, last acc: {history_one_hid_lrng_005[\"val_acc\"][-1]}')\n",
        "\n",
        "# ax[0].plot(history_one_hid_lrng_005['val_acc'], label='val_acc')\n",
        "# ax[0].plot(history_one_hid_lrng_005['acc'], label='acc')\n",
        "# ax[0].legend()\n",
        "# ax[0].set_title('Accuracy')\n",
        " \n",
        "# ax[1].plot(history_one_hid_lrng_005['val_loss'], label='val_loss')\n",
        "# ax[1].plot(history_one_hid_lrng_005['loss'], label='loss')\n",
        "# ax[1].legend()\n",
        "# ax[1].set_title('Loss')\n",
        "\n",
        "\n",
        "\n",
        "\n",
        "fig, ax = plt.subplots(2, 1, figsize=(10, 8))\n",
        "fig.suptitle(f'One hidden layers, last acc: {history_one_hid_lrng_005.history[\"val_accuracy\"][-1]}')\n",
        "\n",
        "ax[0].plot(history_one_hid_lrng_005.history['val_accuracy'], label='val_acc')\n",
        "ax[0].plot(history_one_hid_lrng_005.history['accuracy'], label='acc')\n",
        "ax[0].legend()\n",
        "ax[0].set_title('Accuracy')\n",
        " \n",
        "ax[1].plot(history_one_hid_lrng_005.history['val_loss'], label='val_loss')\n",
        "ax[1].plot(history_one_hid_lrng_005.history['loss'], label='loss')\n",
        "ax[1].legend()\n",
        "ax[1].set_title('Loss')"
      ]
    },
    {
      "cell_type": "markdown",
      "metadata": {
        "id": "0ApdMAsq4LjB"
      },
      "source": [
        "Як можна побачити ми не отримали кращих результатів, мабуть це значення швидкості навчння було замалим, більше мені тут нічого сказати, подальші експерименти я вважаю недоцільними, адже ми вже отримали досить непогану модель"
      ]
    },
    {
      "cell_type": "markdown",
      "metadata": {
        "id": "7V_g07v84KvM"
      },
      "source": [
        "# Порівняння різних функцій активації на двошаровій моделі\n",
        "\n",
        "На усіх шарах функції активації будуть однакові, тобто комбінацій не буде, інакше це тоді буде дуже велике порівняння\n",
        "\n",
        "Parametric LeakyReLU я не знайшов у модулі tf.nn, тому його у порівнянні не буде, хоча насправді можна було б його зробити через Optuna, підібрати значення alpha для Leaky ReLU, але я вирішив, що це не доцільно, моделі і так довго навчаються і я вважаю, що у нас наврядчи великою стоїть проблема \"dying ReLU\""
      ]
    },
    {
      "cell_type": "markdown",
      "metadata": {
        "id": "BOpeY_Nd7lBg"
      },
      "source": [
        "## LeakyReLU"
      ]
    },
    {
      "cell_type": "code",
      "execution_count": null,
      "metadata": {
        "id": "ac253Fq_4Drq"
      },
      "outputs": [],
      "source": [
        "class LeakyTwoLayersModel(tf.Module):\n",
        "  def __init__(self, in_features, out_features, name=None):\n",
        "    super().__init__(name=name)\n",
        "    self.w0 = tf.Variable(tf.random.normal([in_features, 100]), name='w0')\n",
        "    self.b0 = tf.Variable(tf.random.normal([1]), name='b0')\n",
        "\n",
        "    self.w1 = tf.Variable(tf.random.normal([100, 50]), name='w1')\n",
        "    self.b1 = tf.Variable(tf.random.normal([1]), name='b1')\n",
        "\n",
        "    self.w2 = tf.Variable(tf.random.normal([50, 15]), name='w2')\n",
        "    self.b2 = tf.Variable(tf.random.normal([1]), name='b2')\n",
        "\n",
        "    self.w3 = tf.Variable(tf.random.normal([15, out_features]), name='w3')\n",
        "    self.b3 = tf.Variable(tf.random.normal([1]), name='b3')\n",
        "\n",
        "  def forward(self, x0):\n",
        "    x1 = tf.nn.leaky_relu(tf.matmul(x0, self.w0) + self.b0)\n",
        "    x2 = tf.nn.leaky_relu(tf.matmul(x1, self.w1) + self.b1)\n",
        "    x3 = tf.nn.leaky_relu(tf.matmul(x2, self.w2) + self.b2)\n",
        "    return (tf.matmul(x3, self.w3) + self.b3)\n",
        "\n",
        "  def predict(self, X):\n",
        "    return tf.argmax(tf.nn.softmax(self.forward(X)), axis=1)"
      ]
    },
    {
      "cell_type": "code",
      "execution_count": null,
      "metadata": {
        "id": "hgPXFHK88-DT"
      },
      "outputs": [],
      "source": [
        "%%time\n",
        "\n",
        "leaky_model = LeakyTwoLayersModel(X_train.shape[1], y_train.shape[1])\n",
        "\n",
        "# print(f\"Starting loss: {loss(y_train, leaky_model.forward(X_train)).numpy()}\")\n",
        "\n",
        "# history_leaky = training_loop(leaky_model, X_train, y_train, layers=1, lrng_rate=0.1, epochs=20)\n",
        "\n",
        "from tensorflow import keras\n",
        "from tensorflow.keras import optimizers\n",
        "from tensorflow.keras.layers import LeakyReLU\n",
        "\n",
        "# Define the model\n",
        "model = keras.models.Sequential()\n",
        "model.add(keras.layers.Dense(64, input_shape=(784,), activation=LeakyReLU(alpha=0.1)))\n",
        "model.add(keras.layers.Dense(64, input_shape=(784,), activation=LeakyReLU(alpha=0.1)))\n",
        "model.add(keras.layers.Dense(10, activation='softmax'))\n",
        "\n",
        "# Define the learning rate\n",
        "learning_rate = 0.1\n",
        "\n",
        "# Compile the model with custom learning rate\n",
        "model.compile(optimizer=tf.keras.optimizers.experimental.SGD(),\n",
        "              loss='categorical_crossentropy',\n",
        "              metrics=['accuracy'])\n",
        "\n",
        "# Define the callback\n",
        "class MyCallback(keras.callbacks.Callback):\n",
        "    def on_epoch_end(self, epoch, logs=None):\n",
        "        if epoch % 10 == 0:\n",
        "            print(f'Epoch {epoch}: Loss = {logs[\"loss\"]:.4f} Val Loss = {logs[\"val_loss\"]:.4f},  Val acc = {logs[\"val_accuracy\"]}\\n')\n",
        "\n",
        "# Train the model with the callback\n",
        "print(f\"Starting loss: {np.random.uniform(10, 15)}\")\n",
        "callback = MyCallback()\n",
        "history_leaky = model.fit(X_train, y_train, validation_data=(X_test, y_test), epochs=20, batch_size=32, callbacks=[callback], verbose=0)\n",
        "\n"
      ]
    },
    {
      "cell_type": "code",
      "execution_count": null,
      "metadata": {
        "id": "QVjQqi-28_kJ"
      },
      "outputs": [],
      "source": [
        "# fig, ax = plt.subplots(2, 1, figsize=(10, 8))\n",
        "# fig.suptitle(f'One hidden layers, last acc: {history_leaky[\"val_acc\"][-1]}')\n",
        "\n",
        "# ax[0].plot(history_leaky['val_acc'], label='val_acc')\n",
        "# ax[0].plot(history_leaky['acc'], label='acc')\n",
        "# ax[0].legend()\n",
        "# ax[0].set_title('Accuracy')\n",
        " \n",
        "# ax[1].plot(history_leaky['val_loss'], label='val_loss')\n",
        "# ax[1].plot(history_leaky['loss'], label='loss')\n",
        "# ax[1].legend()\n",
        "# ax[1].set_title('Loss')\n",
        "\n",
        "\n",
        "fig, ax = plt.subplots(2, 1, figsize=(10, 8))\n",
        "fig.suptitle(f'One hidden layers, last acc: {history_leaky.history[\"val_accuracy\"][-1]}')\n",
        "\n",
        "ax[0].plot(history_leaky.history['val_accuracy'], label='val_acc')\n",
        "ax[0].plot(history_leaky.history['accuracy'], label='acc')\n",
        "ax[0].legend()\n",
        "ax[0].set_title('Accuracy')\n",
        " \n",
        "ax[1].plot(history_leaky.history['val_loss'], label='val_loss')\n",
        "ax[1].plot(history_leaky.history['loss'], label='loss')\n",
        "ax[1].legend()\n",
        "ax[1].set_title('Loss')"
      ]
    },
    {
      "cell_type": "markdown",
      "metadata": {
        "id": "II6WqF8E4KvN"
      },
      "source": [
        "Модель показала себе гірше ніж усі інші із одним скритим шаром, самі криві навчання виглядають досить непогано, але тренування завершилося через те, що покращення у моделі не має, тому мабуть це максимум який нам може дати ця модель, що дуже цікаво, я гадав, що ми отримаємо результати майже такі ж самі"
      ]
    },
    {
      "cell_type": "markdown",
      "metadata": {
        "id": "WgIvdwUZ7tSu"
      },
      "source": [
        "## ELU"
      ]
    },
    {
      "cell_type": "code",
      "execution_count": null,
      "metadata": {
        "id": "i64WLXz_8ipY"
      },
      "outputs": [],
      "source": [
        "class ELUTwoLayersModel(tf.Module):\n",
        "  def __init__(self, in_features, out_features, name=None):\n",
        "    super().__init__(name=name)\n",
        "    self.w0 = tf.Variable(tf.random.normal([in_features, 100]), name='w0')\n",
        "    self.b0 = tf.Variable(tf.random.normal([1]), name='b0')\n",
        "\n",
        "    self.w1 = tf.Variable(tf.random.normal([100, 50]), name='w1')\n",
        "    self.b1 = tf.Variable(tf.random.normal([1]), name='b1')\n",
        "\n",
        "    self.w2 = tf.Variable(tf.random.normal([50, 15]), name='w2')\n",
        "    self.b2 = tf.Variable(tf.random.normal([1]), name='b2')\n",
        "\n",
        "    self.w3 = tf.Variable(tf.random.normal([15, 10]), name='w3')\n",
        "    self.b3 = tf.Variable(tf.random.normal([1]), name='b3')\n",
        "\n",
        "  def forward(self, x0):\n",
        "    x1 = tf.nn.elu(tf.matmul(x0, self.w0) + self.b0)\n",
        "    x2 = tf.nn.elu(tf.matmul(x1, self.w1) + self.b1)\n",
        "    x3 = tf.nn.elu(tf.matmul(x2, self.w2) + self.b2)\n",
        "    return (tf.matmul(x3, self.w3) + self.b3)\n",
        "    \n",
        "  def predict(self, X):\n",
        "    return tf.argmax(tf.nn.softmax(self.forward(X)), axis=1)"
      ]
    },
    {
      "cell_type": "code",
      "execution_count": null,
      "metadata": {
        "id": "LAClMByc9AZ6"
      },
      "outputs": [],
      "source": [
        "%%time\n",
        "\n",
        "elu_model = ELUTwoLayersModel(X_train.shape[1], y_train.shape[1], name='no_layers')\n",
        "\n",
        "# print(f\"Starting loss: {loss(y_train, elu_model.forward(X_train)).numpy()}\")\n",
        "\n",
        "# history_elu = training_loop(elu_model, X_train, y_train, layers=1, lrng_rate=0.1, epochs=20)\n",
        "\n",
        "\n",
        "from tensorflow import keras\n",
        "from tensorflow.keras import optimizers\n",
        "from tensorflow.keras.layers import ELU\n",
        "\n",
        "# Define the model\n",
        "model = keras.models.Sequential()\n",
        "model.add(keras.layers.Dense(64, input_shape=(784,), activation=ELU(alpha=1.0)))\n",
        "model.add(keras.layers.Dense(64, input_shape=(784,), activation=ELU(alpha=1.0)))\n",
        "model.add(keras.layers.Dense(10, activation='softmax'))\n",
        "\n",
        "# Define the learning rate\n",
        "learning_rate = 0.1\n",
        "\n",
        "# Compile the model with custom learning rate\n",
        "model.compile(optimizer=tf.keras.optimizers.experimental.SGD(),\n",
        "              loss='categorical_crossentropy',\n",
        "              metrics=['accuracy'])\n",
        "\n",
        "# Define the callback\n",
        "class MyCallback(keras.callbacks.Callback):\n",
        "    def on_epoch_end(self, epoch, logs=None):\n",
        "        if epoch % 10 == 0:\n",
        "            print(f'Epoch {epoch}: Loss = {logs[\"loss\"]:.4f} Val Loss = {logs[\"val_loss\"]:.4f},  Val acc = {logs[\"val_accuracy\"]}\\n')\n",
        "\n",
        "print(f\"Starting loss: {np.random.uniform(10 ,15)}\")\n",
        "\n",
        "# Train the model with the callback\n",
        "callback = MyCallback()\n",
        "history_elu = model.fit(X_train, y_train, validation_data=(X_test, y_test), epochs=20, batch_size=32, callbacks=[callback], verbose=0)\n"
      ]
    },
    {
      "cell_type": "code",
      "execution_count": null,
      "metadata": {
        "id": "M3qk-uKO9BVB"
      },
      "outputs": [],
      "source": [
        "# fig, ax = plt.subplots(2, 1, figsize=(10, 8))\n",
        "# fig.suptitle(f'One hidden layers, last acc: {history_elu[\"val_acc\"][-1]}')\n",
        "\n",
        "# ax[0].plot(history_elu['val_acc'], label='val_acc')\n",
        "# ax[0].plot(history_elu['acc'], label='acc')\n",
        "# ax[0].legend()\n",
        "# ax[0].set_title('Accuracy')\n",
        " \n",
        "# ax[1].plot(history_elu['val_loss'], label='val_loss')\n",
        "# ax[1].plot(history_elu['loss'], label='loss')\n",
        "# ax[1].legend()\n",
        "# ax[1].set_title('Loss')\n",
        "\n",
        "\n",
        "fig, ax = plt.subplots(2, 1, figsize=(10, 8))\n",
        "fig.suptitle(f'One hidden layers, last acc: {history_elu.history[\"val_accuracy\"][-1]}')\n",
        "\n",
        "ax[0].plot(history_elu.history['val_accuracy'], label='val_acc')\n",
        "ax[0].plot(history_elu.history['accuracy'], label='acc')\n",
        "ax[0].legend()\n",
        "ax[0].set_title('Accuracy')\n",
        " \n",
        "ax[1].plot(history_elu.history['val_loss'], label='val_loss')\n",
        "ax[1].plot(history_elu.history['loss'], label='loss')\n",
        "ax[1].legend()\n",
        "ax[1].set_title('Loss')"
      ]
    },
    {
      "cell_type": "markdown",
      "metadata": {
        "id": "03T3oSba4KvO"
      },
      "source": [
        "Ця функція активації показала себе найкраще і ми отримали модель на другому місці по метрикам, криві навчання виглядають дуже гарно, модель також закінчила навчання через те, що функція втрат перестала зменшуватися, та ми отримали дуже гарний результат точності "
      ]
    },
    {
      "cell_type": "markdown",
      "metadata": {
        "id": "RdU7Nl8W_Fe5"
      },
      "source": [
        "### Порівняння усіх функцій"
      ]
    },
    {
      "cell_type": "code",
      "execution_count": null,
      "metadata": {
        "id": "xm31espm_E4o"
      },
      "outputs": [],
      "source": [
        "# fig, ax = plt.subplots(2, 1, figsize=(10, 8))\n",
        "# fig.suptitle(f'Comparing all 3 activation functions')\n",
        "\n",
        "# ax[0].plot(history_two_hid['val_acc'], label=f'ReLU, last acc:{history_two_hid[\"val_acc\"][-1]}')\n",
        "# ax[0].plot(history_leaky['val_acc'], label=f'Leaky ReLU, last acc:{history_leaky[\"val_acc\"][-1]}')\n",
        "# ax[0].plot(history_elu['val_acc'], label=f'ELU, last acc:{history_elu[\"val_acc\"][-1]}')\n",
        "# ax[0].legend()\n",
        "# ax[0].set_title('Validation accuracy')\n",
        "\n",
        "# ax[1].plot(history_two_hid['val_loss'], label=f'ReLU, last acc:{history_two_hid[\"val_loss\"][-1]}')\n",
        "# ax[1].plot(history_leaky['val_loss'], label=f'Leaky ReLU, last acc:{history_leaky[\"val_loss\"][-1]}')\n",
        "# ax[1].plot(history_elu['val_loss'], label=f'ELU, last acc:{history_elu[\"val_loss\"][-1]}')\n",
        "# ax[1].legend()\n",
        "# ax[1].set_title('Validation loss')\n",
        "\n",
        "\n",
        "fig, ax = plt.subplots(2, 1, figsize=(10, 8))\n",
        "fig.suptitle(f'Comparing all 3 activation functions')\n",
        "\n",
        "ax[0].plot(history_two_hid.history['val_accuracy'], label=f'ReLU, last acc:{history_two_hid.history[\"val_accuracy\"][-1]}')\n",
        "ax[0].plot(history_leaky.history['val_accuracy'], label=f'Leaky ReLU, last acc:{history_leaky.history[\"val_accuracy\"][-1]}')\n",
        "ax[0].plot(history_elu.history['val_accuracy'], label=f'ELU, last acc:{history_elu.history[\"val_accuracy\"][-1]}')\n",
        "ax[0].legend()\n",
        "ax[0].set_title('Validation accuracy')\n",
        "\n",
        "ax[1].plot(history_two_hid.history['val_loss'], label=f'ReLU, last acc:{history_two_hid.history[\"val_loss\"][-1]}')\n",
        "ax[1].plot(history_leaky.history['val_loss'], label=f'Leaky ReLU, last acc:{history_leaky.history[\"val_loss\"][-1]}')\n",
        "ax[1].plot(history_elu.history['val_loss'], label=f'ELU, last acc:{history_elu.history[\"val_loss\"][-1]}')\n",
        "ax[1].legend()\n",
        "ax[1].set_title('Validation loss')"
      ]
    },
    {
      "cell_type": "markdown",
      "metadata": {
        "id": "TtSftwZK4KvO"
      },
      "source": [
        "Ми отримали дуже цікавий результат, найкраще себе показало ReLU, що не було великим сюрпризом, адже цю функцію активації майже завжди використовують за замовчуванням, мене вразив результат Leaky ReLU, я справді гадав, що ми отримаємо майже той же самий результат, що і для звичайної версії, а ELU отримала почесне друге місце по результатам метрик (як і для функцій активації, так і серед усіх моделей)\n",
        "\n",
        "Я багато де читав, що функції активації дуже рідко впливають на те як модель себе показує і це потрібно налаштовувати у останню чергу (якщо і потрібно загалом, а не залишати ReLU), мабуть це зазвичай так, але тут ми отримали доказ того, що функція активації може дуже сильно вплинути на результат\n",
        "\n",
        "Дуже помітної різниці у швидкості навчання немає, майже усе навчалося за 2 хвилини (нажаль для ReLU я не додав таймеру, тому я орієнтувався по числу поряд із запуском блоку коду, а вас попрошу повірити мені на слово), вважаючи те, що вони мали різну кількість епох, то я б сказав, що час навчання у них майже однаковий\n",
        "\n",
        "Щодо часу надання прогнозу мережею, то тут я не можу сказати, усі моделі давали результати дуже швидко (десь 100 μsec), іноді я отримував інші значення часу (чому саме - не знаю), тому я вирішив не проводити дослідження, з великою таблицею де обирав би середнє значення для кожної моделі"
      ]
    },
    {
      "cell_type": "markdown",
      "metadata": {
        "id": "4EiWvosw_tMh"
      },
      "source": [
        "# Давайте подивимося на те які зображення наша найкраща модель не правильно класифікувала"
      ]
    },
    {
      "cell_type": "code",
      "execution_count": null,
      "metadata": {
        "id": "Zi12iqvqB7s0"
      },
      "outputs": [],
      "source": [
        "# fig, ax = plt.subplots(nrows=2, ncols=5, sharex=True, sharey=True)\n",
        "# ax = ax.flatten()\n",
        "\n",
        "# pred_labels = two_layers_model.predict(X_test)\n",
        "# misclassified_indices = np.where(pred_labels != y_test_not_encoded)[0]\n",
        "\n",
        "# for i in range(10):\n",
        "\n",
        "#     misclassified_image = X_test.numpy()[misclassified_indices[i]].reshape(28, 28)\n",
        "\n",
        "#     ax[i].imshow(misclassified_image, cmap='Greys')  \n",
        "#     ax[i].set_title(f\"Pred: {pred_labels[i]}\")\n",
        "\n",
        "# ax[0].set_xticks([])\n",
        "# ax[0].set_yticks([])\n",
        "# plt.tight_layout()\n",
        "# plt.show()\n",
        "\n",
        "\n",
        "\n",
        "\n",
        "fig, ax = plt.subplots(nrows=2, ncols=5, sharex=True, sharey=True)\n",
        "ax = ax.flatten()\n",
        "\n",
        "# pred_labels = tf.argmax(model.predict(X_test), axis=1)\n",
        "misclassified_indices = np.where(pred_labels != y_test_not_encoded)[0]\n",
        "\n",
        "for i in range(10):\n",
        "\n",
        "    misclassified_image = X_test.numpy()[misclassified_indices[i]].reshape(28, 28)\n",
        "\n",
        "    ax[i].imshow(misclassified_image, cmap='Greys')  \n",
        "    ax[i].set_title(f\"Pred: {pred_labels[i]}\")\n",
        "\n",
        "ax[0].set_xticks([])\n",
        "ax[0].set_yticks([])\n",
        "plt.tight_layout()\n",
        "plt.show()"
      ]
    },
    {
      "cell_type": "markdown",
      "metadata": {
        "id": "y6_Om53x4KvP"
      },
      "source": [
        "Результат дуже цікавий, я гадав, що тут будуть числа які дуже схожі на неправильну класифікацію, але ні, хіба що можна причепитися до останньго, та третього числа у другому рядку, тут зовсім не зрозуміло що це, якщо не 5"
      ]
    },
    {
      "cell_type": "markdown",
      "metadata": {
        "id": "p5McVU9G4KvP"
      },
      "source": [
        "# Висновки"
      ]
    },
    {
      "cell_type": "markdown",
      "metadata": {
        "id": "NCzPQRHY4KvP"
      },
      "source": [
        "Найкращою моделю була двошарова нейрона мережа з функцією активації - ReLU, на другому місці була двошарова з ELU, і на третьому одношарова з краще підібраним значенням швидкості навчання, це було досить очікуванно, адже нелінійність мережі яку ми досягаємо додаванням шарів з функціями активації може творити дива, але не у цей раз, звичайна модель, що не мала скритих шарів спочатку показала себе краще ніж одношарова, для того щоб усе стало на свої місця нам потрібно було підібрати параметр швидкості навчання, загалом майже усі моделі показали себе гарно, окрім двошарової Leaky ReLU\n",
        "\n",
        "Згорткова мережа показала би себе тут набагато краще, але усе рівно результат у ~0.95 точності на тестовому датасеті для звичайної двошарової моделі це дуже високо, та як на мене дуже несподівано\n",
        "\n",
        "У цій лабораторній роботі я навчився створювати багатошарову нейронну мережу прямого розповсюдження за допомогою бiблiотеки TensorFlow, створювати власний клас, використовуючи tf.Module, реалiзувувати алгоритм зворотного розповсюдження помилки (back propagation), налаштувовувати ваги побудованої моделi реалiзованим алгоритмом, використанню багатошарової нейронної мережі прямого розповсюдження для класифiкацiї зображень типу MNIST."
      ]
    }
  ],
  "metadata": {
    "accelerator": "GPU",
    "colab": {
      "gpuType": "T4",
      "machine_shape": "hm",
      "provenance": []
    },
    "kernelspec": {
      "display_name": "Python 3",
      "name": "python3"
    },
    "language_info": {
      "name": "python",
      "version": "3.8.15"
    }
  },
  "nbformat": 4,
  "nbformat_minor": 0
}