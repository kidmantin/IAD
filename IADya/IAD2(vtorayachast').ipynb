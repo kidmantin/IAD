{
 "cells": [
  {
   "cell_type": "markdown",
   "metadata": {},
   "source": [
    "<font size=\"5\">Датасет з продажу житлової нерухомості:</font>"
   ]
  },
  {
   "cell_type": "code",
   "execution_count": 734,
   "metadata": {},
   "outputs": [
    {
     "data": {
      "text/plain": [
       "<Figure size 1008x576 with 0 Axes>"
      ]
     },
     "metadata": {},
     "output_type": "display_data"
    }
   ],
   "source": [
    "import pandas as pd\n",
    "import numpy as np\n",
    "import sklearn.datasets\n",
    "import sklearn.metrics as metrics\n",
    "import matplotlib.pyplot as plt\n",
    "import seaborn as sns\n",
    "import warnings \n",
    "\n",
    "plt.figure(figsize=(14, 8))\n",
    "warnings.filterwarnings('ignore')\n",
    "property = pd.read_csv('raw_sales.csv')\n",
    "ma_quartintervals = pd.read_csv('ma_lga_12345.csv')"
   ]
  },
  {
   "cell_type": "code",
   "execution_count": 735,
   "metadata": {},
   "outputs": [],
   "source": [
    "def regression_score(y, predict):\n",
    "    print(\"RMSE:\", metrics.mean_squared_error(y, predict, squared=False))\n",
    "    print(\"MSE:\", metrics.mean_squared_error(y, predict, squared=True))\n",
    "    print(\"R2:\", metrics.r2_score(y, predict))\n",
    "    print(\"MAPE:\", metrics.mean_absolute_error(y, predict))"
   ]
  },
  {
   "cell_type": "code",
   "execution_count": 736,
   "metadata": {},
   "outputs": [],
   "source": [
    "def gridsearchscore(regression):\n",
    "    print(f'Best score: {regression.best_score_}, Best alpha: {regression.best_params_}')"
   ]
  },
  {
   "cell_type": "code",
   "execution_count": 737,
   "metadata": {},
   "outputs": [],
   "source": [
    "def truepredplot(y_true, predicted):\n",
    "    ax = sns.regplot(y=y_true, x=predicted)\n",
    "    ax.set(xlabel='predicted values', ylabel='true values')\n",
    "    plt.show()"
   ]
  },
  {
   "cell_type": "markdown",
   "metadata": {},
   "source": [
    "Property - дані про продажі нерухомості за період 2007-2019 рр. для одного конкретного регіону. Дані містять ціни продажу будинків, кількість спален та інше <br>\n",
    "ma_quartintervals - property, але з повторно відібрані на поквартальні інтервали з використанням медіанного агрегатора <br>\n",
    "Використовувати будемо raw data (property):"
   ]
  },
  {
   "cell_type": "code",
   "execution_count": 738,
   "metadata": {},
   "outputs": [
    {
     "data": {
      "text/html": [
       "<div>\n",
       "<style scoped>\n",
       "    .dataframe tbody tr th:only-of-type {\n",
       "        vertical-align: middle;\n",
       "    }\n",
       "\n",
       "    .dataframe tbody tr th {\n",
       "        vertical-align: top;\n",
       "    }\n",
       "\n",
       "    .dataframe thead th {\n",
       "        text-align: right;\n",
       "    }\n",
       "</style>\n",
       "<table border=\"1\" class=\"dataframe\">\n",
       "  <thead>\n",
       "    <tr style=\"text-align: right;\">\n",
       "      <th></th>\n",
       "      <th>datesold</th>\n",
       "      <th>postcode</th>\n",
       "      <th>price</th>\n",
       "      <th>propertyType</th>\n",
       "      <th>bedrooms</th>\n",
       "    </tr>\n",
       "  </thead>\n",
       "  <tbody>\n",
       "    <tr>\n",
       "      <th>0</th>\n",
       "      <td>2007-02-07 00:00:00</td>\n",
       "      <td>2607</td>\n",
       "      <td>525000</td>\n",
       "      <td>house</td>\n",
       "      <td>4</td>\n",
       "    </tr>\n",
       "    <tr>\n",
       "      <th>1</th>\n",
       "      <td>2007-02-27 00:00:00</td>\n",
       "      <td>2906</td>\n",
       "      <td>290000</td>\n",
       "      <td>house</td>\n",
       "      <td>3</td>\n",
       "    </tr>\n",
       "    <tr>\n",
       "      <th>2</th>\n",
       "      <td>2007-03-07 00:00:00</td>\n",
       "      <td>2905</td>\n",
       "      <td>328000</td>\n",
       "      <td>house</td>\n",
       "      <td>3</td>\n",
       "    </tr>\n",
       "    <tr>\n",
       "      <th>3</th>\n",
       "      <td>2007-03-09 00:00:00</td>\n",
       "      <td>2905</td>\n",
       "      <td>380000</td>\n",
       "      <td>house</td>\n",
       "      <td>4</td>\n",
       "    </tr>\n",
       "    <tr>\n",
       "      <th>4</th>\n",
       "      <td>2007-03-21 00:00:00</td>\n",
       "      <td>2906</td>\n",
       "      <td>310000</td>\n",
       "      <td>house</td>\n",
       "      <td>3</td>\n",
       "    </tr>\n",
       "  </tbody>\n",
       "</table>\n",
       "</div>"
      ],
      "text/plain": [
       "              datesold  postcode   price propertyType  bedrooms\n",
       "0  2007-02-07 00:00:00      2607  525000        house         4\n",
       "1  2007-02-27 00:00:00      2906  290000        house         3\n",
       "2  2007-03-07 00:00:00      2905  328000        house         3\n",
       "3  2007-03-09 00:00:00      2905  380000        house         4\n",
       "4  2007-03-21 00:00:00      2906  310000        house         3"
      ]
     },
     "execution_count": 738,
     "metadata": {},
     "output_type": "execute_result"
    }
   ],
   "source": [
    "property.head()"
   ]
  },
  {
   "cell_type": "code",
   "execution_count": 739,
   "metadata": {},
   "outputs": [
    {
     "data": {
      "text/html": [
       "<div>\n",
       "<style scoped>\n",
       "    .dataframe tbody tr th:only-of-type {\n",
       "        vertical-align: middle;\n",
       "    }\n",
       "\n",
       "    .dataframe tbody tr th {\n",
       "        vertical-align: top;\n",
       "    }\n",
       "\n",
       "    .dataframe thead th {\n",
       "        text-align: right;\n",
       "    }\n",
       "</style>\n",
       "<table border=\"1\" class=\"dataframe\">\n",
       "  <thead>\n",
       "    <tr style=\"text-align: right;\">\n",
       "      <th></th>\n",
       "      <th>saledate</th>\n",
       "      <th>MA</th>\n",
       "      <th>type</th>\n",
       "      <th>bedrooms</th>\n",
       "    </tr>\n",
       "  </thead>\n",
       "  <tbody>\n",
       "    <tr>\n",
       "      <th>0</th>\n",
       "      <td>2007-09-30</td>\n",
       "      <td>441854</td>\n",
       "      <td>house</td>\n",
       "      <td>2</td>\n",
       "    </tr>\n",
       "    <tr>\n",
       "      <th>1</th>\n",
       "      <td>2007-12-31</td>\n",
       "      <td>441854</td>\n",
       "      <td>house</td>\n",
       "      <td>2</td>\n",
       "    </tr>\n",
       "    <tr>\n",
       "      <th>2</th>\n",
       "      <td>2008-03-31</td>\n",
       "      <td>441854</td>\n",
       "      <td>house</td>\n",
       "      <td>2</td>\n",
       "    </tr>\n",
       "    <tr>\n",
       "      <th>3</th>\n",
       "      <td>2008-06-30</td>\n",
       "      <td>441854</td>\n",
       "      <td>house</td>\n",
       "      <td>2</td>\n",
       "    </tr>\n",
       "    <tr>\n",
       "      <th>4</th>\n",
       "      <td>2008-09-30</td>\n",
       "      <td>451583</td>\n",
       "      <td>house</td>\n",
       "      <td>2</td>\n",
       "    </tr>\n",
       "  </tbody>\n",
       "</table>\n",
       "</div>"
      ],
      "text/plain": [
       "    saledate      MA   type  bedrooms\n",
       "0 2007-09-30  441854  house         2\n",
       "1 2007-12-31  441854  house         2\n",
       "2 2008-03-31  441854  house         2\n",
       "3 2008-06-30  441854  house         2\n",
       "4 2008-09-30  451583  house         2"
      ]
     },
     "execution_count": 739,
     "metadata": {},
     "output_type": "execute_result"
    }
   ],
   "source": [
    "ma_quartintervals['saledate'] = pd.to_datetime(ma_quartintervals['saledate'])\n",
    "ma_quartintervals.head()\n"
   ]
  },
  {
   "cell_type": "code",
   "execution_count": 740,
   "metadata": {},
   "outputs": [
    {
     "data": {
      "text/plain": [
       "<AxesSubplot:xlabel='propertyType', ylabel='Count'>"
      ]
     },
     "execution_count": 740,
     "metadata": {},
     "output_type": "execute_result"
    },
    {
     "data": {
      "image/png": "[encoded data removed]",
      "text/plain": [
       "<Figure size 432x288 with 1 Axes>"
      ]
     },
     "metadata": {
      "needs_background": "light"
     },
     "output_type": "display_data"
    }
   ],
   "source": [
    "sns.histplot(data=property['propertyType'])"
   ]
  },
  {
   "cell_type": "code",
   "execution_count": 741,
   "metadata": {},
   "outputs": [
    {
     "data": {
      "text/html": [
       "<div>\n",
       "<style scoped>\n",
       "    .dataframe tbody tr th:only-of-type {\n",
       "        vertical-align: middle;\n",
       "    }\n",
       "\n",
       "    .dataframe tbody tr th {\n",
       "        vertical-align: top;\n",
       "    }\n",
       "\n",
       "    .dataframe thead th {\n",
       "        text-align: right;\n",
       "    }\n",
       "</style>\n",
       "<table border=\"1\" class=\"dataframe\">\n",
       "  <thead>\n",
       "    <tr style=\"text-align: right;\">\n",
       "      <th></th>\n",
       "      <th>datesold</th>\n",
       "      <th>postcode</th>\n",
       "      <th>price</th>\n",
       "      <th>propertyType</th>\n",
       "      <th>bedrooms</th>\n",
       "      <th>month</th>\n",
       "      <th>year</th>\n",
       "    </tr>\n",
       "  </thead>\n",
       "  <tbody>\n",
       "    <tr>\n",
       "      <th>0</th>\n",
       "      <td>2007-02-07</td>\n",
       "      <td>2607</td>\n",
       "      <td>525000</td>\n",
       "      <td>1</td>\n",
       "      <td>4</td>\n",
       "      <td>2</td>\n",
       "      <td>2007</td>\n",
       "    </tr>\n",
       "    <tr>\n",
       "      <th>1</th>\n",
       "      <td>2007-02-27</td>\n",
       "      <td>2906</td>\n",
       "      <td>290000</td>\n",
       "      <td>1</td>\n",
       "      <td>3</td>\n",
       "      <td>2</td>\n",
       "      <td>2007</td>\n",
       "    </tr>\n",
       "    <tr>\n",
       "      <th>2</th>\n",
       "      <td>2007-03-07</td>\n",
       "      <td>2905</td>\n",
       "      <td>328000</td>\n",
       "      <td>1</td>\n",
       "      <td>3</td>\n",
       "      <td>3</td>\n",
       "      <td>2007</td>\n",
       "    </tr>\n",
       "    <tr>\n",
       "      <th>3</th>\n",
       "      <td>2007-03-09</td>\n",
       "      <td>2905</td>\n",
       "      <td>380000</td>\n",
       "      <td>1</td>\n",
       "      <td>4</td>\n",
       "      <td>3</td>\n",
       "      <td>2007</td>\n",
       "    </tr>\n",
       "    <tr>\n",
       "      <th>4</th>\n",
       "      <td>2007-03-21</td>\n",
       "      <td>2906</td>\n",
       "      <td>310000</td>\n",
       "      <td>1</td>\n",
       "      <td>3</td>\n",
       "      <td>3</td>\n",
       "      <td>2007</td>\n",
       "    </tr>\n",
       "  </tbody>\n",
       "</table>\n",
       "</div>"
      ],
      "text/plain": [
       "    datesold  postcode   price  propertyType  bedrooms  month  year\n",
       "0 2007-02-07      2607  525000             1         4      2  2007\n",
       "1 2007-02-27      2906  290000             1         3      2  2007\n",
       "2 2007-03-07      2905  328000             1         3      3  2007\n",
       "3 2007-03-09      2905  380000             1         4      3  2007\n",
       "4 2007-03-21      2906  310000             1         3      3  2007"
      ]
     },
     "execution_count": 741,
     "metadata": {},
     "output_type": "execute_result"
    }
   ],
   "source": [
    "property['datesold'] = pd.to_datetime(property['datesold'])\n",
    "property['month'] = property['datesold'].dt.month\n",
    "property['year'] = property['datesold'].dt.year\n",
    "property['propertyType'].replace(['house','unit'],[1, 0],inplace=True)\n",
    "property.head()"
   ]
  },
  {
   "cell_type": "markdown",
   "metadata": {},
   "source": [
    "Видаляємо поштовий індекс тому що він не допоможе нам у подальшому"
   ]
  },
  {
   "cell_type": "code",
   "execution_count": 742,
   "metadata": {},
   "outputs": [],
   "source": [
    "property.drop('postcode', axis=1, inplace=True)"
   ]
  },
  {
   "cell_type": "code",
   "execution_count": 743,
   "metadata": {},
   "outputs": [
    {
     "data": {
      "text/html": [
       "<div>\n",
       "<style scoped>\n",
       "    .dataframe tbody tr th:only-of-type {\n",
       "        vertical-align: middle;\n",
       "    }\n",
       "\n",
       "    .dataframe tbody tr th {\n",
       "        vertical-align: top;\n",
       "    }\n",
       "\n",
       "    .dataframe thead th {\n",
       "        text-align: right;\n",
       "    }\n",
       "</style>\n",
       "<table border=\"1\" class=\"dataframe\">\n",
       "  <thead>\n",
       "    <tr style=\"text-align: right;\">\n",
       "      <th></th>\n",
       "      <th>price</th>\n",
       "      <th>propertyType</th>\n",
       "      <th>bedrooms</th>\n",
       "      <th>month</th>\n",
       "      <th>year</th>\n",
       "    </tr>\n",
       "  </thead>\n",
       "  <tbody>\n",
       "    <tr>\n",
       "      <th>count</th>\n",
       "      <td>29580.00000</td>\n",
       "      <td>29580.00000</td>\n",
       "      <td>29580.00000</td>\n",
       "      <td>29580.00000</td>\n",
       "      <td>29580.00000</td>\n",
       "    </tr>\n",
       "    <tr>\n",
       "      <th>mean</th>\n",
       "      <td>609736.26220</td>\n",
       "      <td>0.83002</td>\n",
       "      <td>3.25017</td>\n",
       "      <td>6.71427</td>\n",
       "      <td>2014.62532</td>\n",
       "    </tr>\n",
       "    <tr>\n",
       "      <th>std</th>\n",
       "      <td>281707.90537</td>\n",
       "      <td>0.37562</td>\n",
       "      <td>0.95127</td>\n",
       "      <td>3.37964</td>\n",
       "      <td>2.96434</td>\n",
       "    </tr>\n",
       "    <tr>\n",
       "      <th>min</th>\n",
       "      <td>56500.00000</td>\n",
       "      <td>0.00000</td>\n",
       "      <td>0.00000</td>\n",
       "      <td>1.00000</td>\n",
       "      <td>2007.00000</td>\n",
       "    </tr>\n",
       "    <tr>\n",
       "      <th>25%</th>\n",
       "      <td>440000.00000</td>\n",
       "      <td>1.00000</td>\n",
       "      <td>3.00000</td>\n",
       "      <td>4.00000</td>\n",
       "      <td>2013.00000</td>\n",
       "    </tr>\n",
       "    <tr>\n",
       "      <th>50%</th>\n",
       "      <td>550000.00000</td>\n",
       "      <td>1.00000</td>\n",
       "      <td>3.00000</td>\n",
       "      <td>7.00000</td>\n",
       "      <td>2015.00000</td>\n",
       "    </tr>\n",
       "    <tr>\n",
       "      <th>75%</th>\n",
       "      <td>705000.00000</td>\n",
       "      <td>1.00000</td>\n",
       "      <td>4.00000</td>\n",
       "      <td>10.00000</td>\n",
       "      <td>2017.00000</td>\n",
       "    </tr>\n",
       "    <tr>\n",
       "      <th>max</th>\n",
       "      <td>8000000.00000</td>\n",
       "      <td>1.00000</td>\n",
       "      <td>5.00000</td>\n",
       "      <td>12.00000</td>\n",
       "      <td>2019.00000</td>\n",
       "    </tr>\n",
       "  </tbody>\n",
       "</table>\n",
       "</div>"
      ],
      "text/plain": [
       "               price propertyType     bedrooms        month         year\n",
       "count    29580.00000  29580.00000  29580.00000  29580.00000  29580.00000\n",
       "mean    609736.26220      0.83002      3.25017      6.71427   2014.62532\n",
       "std     281707.90537      0.37562      0.95127      3.37964      2.96434\n",
       "min      56500.00000      0.00000      0.00000      1.00000   2007.00000\n",
       "25%     440000.00000      1.00000      3.00000      4.00000   2013.00000\n",
       "50%     550000.00000      1.00000      3.00000      7.00000   2015.00000\n",
       "75%     705000.00000      1.00000      4.00000     10.00000   2017.00000\n",
       "max    8000000.00000      1.00000      5.00000     12.00000   2019.00000"
      ]
     },
     "execution_count": 743,
     "metadata": {},
     "output_type": "execute_result"
    }
   ],
   "source": [
    "property.describe().applymap('{0:.5f}'.format)"
   ]
  },
  {
   "cell_type": "code",
   "execution_count": 744,
   "metadata": {},
   "outputs": [
    {
     "data": {
      "text/plain": [
       "<seaborn.axisgrid.FacetGrid at 0x15434df4070>"
      ]
     },
     "execution_count": 744,
     "metadata": {},
     "output_type": "execute_result"
    },
    {
     "data": {
      "image/png": "[encoded data removed]",
      "text/plain": [
       "<Figure size 360x360 with 1 Axes>"
      ]
     },
     "metadata": {
      "needs_background": "light"
     },
     "output_type": "display_data"
    }
   ],
   "source": [
    "sns.displot(data=property['bedrooms'])"
   ]
  },
  {
   "cell_type": "code",
   "execution_count": 745,
   "metadata": {},
   "outputs": [
    {
     "data": {
      "text/plain": [
       "<AxesSubplot:xlabel='datesold', ylabel='price'>"
      ]
     },
     "execution_count": 745,
     "metadata": {},
     "output_type": "execute_result"
    },
    {
     "data": {
      "image/png": "[encoded data removed]",
      "text/plain": [
       "<Figure size 432x288 with 1 Axes>"
      ]
     },
     "metadata": {
      "needs_background": "light"
     },
     "output_type": "display_data"
    }
   ],
   "source": [
    "sns.scatterplot(data=property, x='datesold', y='price', hue='bedrooms')"
   ]
  },
  {
   "cell_type": "code",
   "execution_count": 746,
   "metadata": {},
   "outputs": [],
   "source": [
    "property.drop('datesold', axis=1, inplace=True)"
   ]
  },
  {
   "cell_type": "code",
   "execution_count": 747,
   "metadata": {},
   "outputs": [
    {
     "data": {
      "text/plain": [
       "<AxesSubplot:>"
      ]
     },
     "execution_count": 747,
     "metadata": {},
     "output_type": "execute_result"
    },
    {
     "data": {
      "image/png": "[encoded data removed]",
      "text/plain": [
       "<Figure size 432x288 with 2 Axes>"
      ]
     },
     "metadata": {
      "needs_background": "light"
     },
     "output_type": "display_data"
    }
   ],
   "source": [
    "corr = property.corr()\n",
    "\n",
    "sns.heatmap(corr, square=True, annot=True)"
   ]
  },
  {
   "cell_type": "markdown",
   "metadata": {},
   "source": [
    "Цільова змінна (ціна) корелює з типом нерухомості, та кількістю спален, сильного зв'язку з місяцем та роком немає "
   ]
  },
  {
   "cell_type": "code",
   "execution_count": 748,
   "metadata": {},
   "outputs": [
    {
     "data": {
      "text/plain": [
       "<AxesSubplot:xlabel='saledate', ylabel='MA'>"
      ]
     },
     "execution_count": 748,
     "metadata": {},
     "output_type": "execute_result"
    },
    {
     "data": {
      "image/png": "[encoded data removed]",
      "text/plain": [
       "<Figure size 432x288 with 1 Axes>"
      ]
     },
     "metadata": {
      "needs_background": "light"
     },
     "output_type": "display_data"
    }
   ],
   "source": [
    "sns.lineplot(data=ma_quartintervals, x='saledate', y='MA', hue='bedrooms', ci=None)"
   ]
  },
  {
   "cell_type": "markdown",
   "metadata": {},
   "source": [
    "<font size=\"5\">Створимо модель (лінійна регресія):</font>\n"
   ]
  },
  {
   "cell_type": "code",
   "execution_count": 749,
   "metadata": {},
   "outputs": [],
   "source": [
    "from sklearn.linear_model import LinearRegression\n",
    "from sklearn.model_selection import train_test_split\n",
    "\n",
    "y = property['price']\n",
    "X = property.drop(['price'], axis='columns')"
   ]
  },
  {
   "cell_type": "code",
   "execution_count": 750,
   "metadata": {},
   "outputs": [
    {
     "data": {
      "text/plain": [
       "0    525000\n",
       "1    290000\n",
       "2    328000\n",
       "3    380000\n",
       "4    310000\n",
       "Name: price, dtype: int64"
      ]
     },
     "execution_count": 750,
     "metadata": {},
     "output_type": "execute_result"
    }
   ],
   "source": [
    "y.head()"
   ]
  },
  {
   "cell_type": "code",
   "execution_count": 751,
   "metadata": {},
   "outputs": [
    {
     "data": {
      "text/html": [
       "<div>\n",
       "<style scoped>\n",
       "    .dataframe tbody tr th:only-of-type {\n",
       "        vertical-align: middle;\n",
       "    }\n",
       "\n",
       "    .dataframe tbody tr th {\n",
       "        vertical-align: top;\n",
       "    }\n",
       "\n",
       "    .dataframe thead th {\n",
       "        text-align: right;\n",
       "    }\n",
       "</style>\n",
       "<table border=\"1\" class=\"dataframe\">\n",
       "  <thead>\n",
       "    <tr style=\"text-align: right;\">\n",
       "      <th></th>\n",
       "      <th>propertyType</th>\n",
       "      <th>bedrooms</th>\n",
       "      <th>month</th>\n",
       "      <th>year</th>\n",
       "    </tr>\n",
       "  </thead>\n",
       "  <tbody>\n",
       "    <tr>\n",
       "      <th>0</th>\n",
       "      <td>1</td>\n",
       "      <td>4</td>\n",
       "      <td>2</td>\n",
       "      <td>2007</td>\n",
       "    </tr>\n",
       "    <tr>\n",
       "      <th>1</th>\n",
       "      <td>1</td>\n",
       "      <td>3</td>\n",
       "      <td>2</td>\n",
       "      <td>2007</td>\n",
       "    </tr>\n",
       "    <tr>\n",
       "      <th>2</th>\n",
       "      <td>1</td>\n",
       "      <td>3</td>\n",
       "      <td>3</td>\n",
       "      <td>2007</td>\n",
       "    </tr>\n",
       "    <tr>\n",
       "      <th>3</th>\n",
       "      <td>1</td>\n",
       "      <td>4</td>\n",
       "      <td>3</td>\n",
       "      <td>2007</td>\n",
       "    </tr>\n",
       "    <tr>\n",
       "      <th>4</th>\n",
       "      <td>1</td>\n",
       "      <td>3</td>\n",
       "      <td>3</td>\n",
       "      <td>2007</td>\n",
       "    </tr>\n",
       "  </tbody>\n",
       "</table>\n",
       "</div>"
      ],
      "text/plain": [
       "   propertyType  bedrooms  month  year\n",
       "0             1         4      2  2007\n",
       "1             1         3      2  2007\n",
       "2             1         3      3  2007\n",
       "3             1         4      3  2007\n",
       "4             1         3      3  2007"
      ]
     },
     "execution_count": 751,
     "metadata": {},
     "output_type": "execute_result"
    }
   ],
   "source": [
    "X.head()"
   ]
  },
  {
   "cell_type": "code",
   "execution_count": 752,
   "metadata": {},
   "outputs": [],
   "source": [
    "X_train, X_test, y_train, y_test = \\\n",
    "    train_test_split(X, y, \n",
    "                     test_size=0.2,\n",
    "                     random_state=17)"
   ]
  },
  {
   "cell_type": "code",
   "execution_count": 753,
   "metadata": {},
   "outputs": [
    {
     "data": {
      "text/plain": [
       "LinearRegression()"
      ]
     },
     "execution_count": 753,
     "metadata": {},
     "output_type": "execute_result"
    }
   ],
   "source": [
    "linreg_fit_true = LinearRegression(fit_intercept=True)\n",
    "linreg_fit_true.fit(X_train, y_train)"
   ]
  },
  {
   "cell_type": "code",
   "execution_count": 754,
   "metadata": {},
   "outputs": [
    {
     "name": "stdout",
     "output_type": "stream",
     "text": [
      "Test data\n",
      "RMSE: 246142.92456744486\n",
      "MSE: 60586339314.614845\n",
      "R2: 0.27055629779047397\n",
      "MAPE: 147760.66816010646\n"
     ]
    }
   ],
   "source": [
    "predict_true = linreg_fit_true.predict(X_test)\n",
    "\n",
    "print(\"Test data\")\n",
    "regression_score(y_test, predict_true)"
   ]
  },
  {
   "cell_type": "code",
   "execution_count": 755,
   "metadata": {},
   "outputs": [
    {
     "data": {
      "image/png": "[encoded data removed]",
      "text/plain": [
       "<Figure size 432x288 with 1 Axes>"
      ]
     },
     "metadata": {
      "needs_background": "light"
     },
     "output_type": "display_data"
    }
   ],
   "source": [
    "truepredplot(y_test, predict_true)"
   ]
  },
  {
   "cell_type": "code",
   "execution_count": 756,
   "metadata": {},
   "outputs": [
    {
     "name": "stdout",
     "output_type": "stream",
     "text": [
      "Train data\n",
      "RMSE: 237715.84332574887\n",
      "MSE: 56508822168.071976\n",
      "R2: 0.279510706512492\n",
      "MAPE: 144952.04541811757\n"
     ]
    }
   ],
   "source": [
    "predict_true = linreg_fit_true.predict(X_train)\n",
    "\n",
    "print(\"Train data\")\n",
    "regression_score(y_train, predict_true)"
   ]
  },
  {
   "cell_type": "code",
   "execution_count": 757,
   "metadata": {},
   "outputs": [
    {
     "data": {
      "image/png": "[encoded data removed]",
      "text/plain": [
       "<Figure size 432x288 with 1 Axes>"
      ]
     },
     "metadata": {
      "needs_background": "light"
     },
     "output_type": "display_data"
    }
   ],
   "source": [
    "truepredplot(y_train, predict_true)"
   ]
  },
  {
   "cell_type": "code",
   "execution_count": 758,
   "metadata": {},
   "outputs": [
    {
     "data": {
      "text/html": [
       "<div>\n",
       "<style scoped>\n",
       "    .dataframe tbody tr th:only-of-type {\n",
       "        vertical-align: middle;\n",
       "    }\n",
       "\n",
       "    .dataframe tbody tr th {\n",
       "        vertical-align: top;\n",
       "    }\n",
       "\n",
       "    .dataframe thead th {\n",
       "        text-align: right;\n",
       "    }\n",
       "</style>\n",
       "<table border=\"1\" class=\"dataframe\">\n",
       "  <thead>\n",
       "    <tr style=\"text-align: right;\">\n",
       "      <th></th>\n",
       "      <th>coef</th>\n",
       "    </tr>\n",
       "  </thead>\n",
       "  <tbody>\n",
       "    <tr>\n",
       "      <th>bedrooms</th>\n",
       "      <td>149519.240667</td>\n",
       "    </tr>\n",
       "    <tr>\n",
       "      <th>year</th>\n",
       "      <td>19934.912154</td>\n",
       "    </tr>\n",
       "    <tr>\n",
       "      <th>month</th>\n",
       "      <td>3351.723326</td>\n",
       "    </tr>\n",
       "    <tr>\n",
       "      <th>propertyType</th>\n",
       "      <td>-12661.330718</td>\n",
       "    </tr>\n",
       "  </tbody>\n",
       "</table>\n",
       "</div>"
      ],
      "text/plain": [
       "                       coef\n",
       "bedrooms      149519.240667\n",
       "year           19934.912154\n",
       "month           3351.723326\n",
       "propertyType  -12661.330718"
      ]
     },
     "execution_count": 758,
     "metadata": {},
     "output_type": "execute_result"
    }
   ],
   "source": [
    "pd.DataFrame(linreg_fit_true.coef_, \n",
    "             X.columns, \n",
    "             columns=['coef'])\\\n",
    "            .sort_values(by='coef', ascending=False)"
   ]
  },
  {
   "cell_type": "code",
   "execution_count": 759,
   "metadata": {},
   "outputs": [
    {
     "data": {
      "text/plain": [
       "LinearRegression(fit_intercept=False)"
      ]
     },
     "execution_count": 759,
     "metadata": {},
     "output_type": "execute_result"
    }
   ],
   "source": [
    "linreg_fit_false = LinearRegression(fit_intercept=False)\n",
    "linreg_fit_false.fit(X_train, y_train)"
   ]
  },
  {
   "cell_type": "code",
   "execution_count": 760,
   "metadata": {},
   "outputs": [
    {
     "name": "stdout",
     "output_type": "stream",
     "text": [
      "Test data\n",
      "RMSE: 252175.38053070617\n",
      "MSE: 63592422545.80646\n",
      "R2: 0.2343638407759694\n",
      "MAPE: 153648.70472091407\n"
     ]
    }
   ],
   "source": [
    "predict_false = linreg_fit_false.predict(X_test)\n",
    "\n",
    "print(\"Test data\")\n",
    "regression_score(y_test, predict_false)"
   ]
  },
  {
   "cell_type": "code",
   "execution_count": 761,
   "metadata": {},
   "outputs": [
    {
     "data": {
      "image/png": "[encoded data removed]",
      "text/plain": [
       "<Figure size 432x288 with 1 Axes>"
      ]
     },
     "metadata": {
      "needs_background": "light"
     },
     "output_type": "display_data"
    }
   ],
   "source": [
    "truepredplot(y_test, predict_false)"
   ]
  },
  {
   "cell_type": "code",
   "execution_count": 762,
   "metadata": {},
   "outputs": [
    {
     "name": "stdout",
     "output_type": "stream",
     "text": [
      "Train data\n",
      "RMSE: 244672.25423236607\n",
      "MSE: 59864511991.147575\n",
      "R2: 0.2367255537340467\n",
      "MAPE: 150765.71292351803\n"
     ]
    }
   ],
   "source": [
    "predict_false = linreg_fit_false.predict(X_train)\n",
    "\n",
    "print(\"Train data\")\n",
    "regression_score(y_train, predict_false)"
   ]
  },
  {
   "cell_type": "code",
   "execution_count": 763,
   "metadata": {},
   "outputs": [
    {
     "data": {
      "image/png": "[encoded data removed]",
      "text/plain": [
       "<Figure size 432x288 with 1 Axes>"
      ]
     },
     "metadata": {
      "needs_background": "light"
     },
     "output_type": "display_data"
    }
   ],
   "source": [
    "truepredplot(y_train, predict_false)"
   ]
  },
  {
   "cell_type": "code",
   "execution_count": 764,
   "metadata": {},
   "outputs": [
    {
     "data": {
      "text/html": [
       "<div>\n",
       "<style scoped>\n",
       "    .dataframe tbody tr th:only-of-type {\n",
       "        vertical-align: middle;\n",
       "    }\n",
       "\n",
       "    .dataframe tbody tr th {\n",
       "        vertical-align: top;\n",
       "    }\n",
       "\n",
       "    .dataframe thead th {\n",
       "        text-align: right;\n",
       "    }\n",
       "</style>\n",
       "<table border=\"1\" class=\"dataframe\">\n",
       "  <thead>\n",
       "    <tr style=\"text-align: right;\">\n",
       "      <th></th>\n",
       "      <th>coef</th>\n",
       "    </tr>\n",
       "  </thead>\n",
       "  <tbody>\n",
       "    <tr>\n",
       "      <th>bedrooms</th>\n",
       "      <td>151063.262494</td>\n",
       "    </tr>\n",
       "    <tr>\n",
       "      <th>month</th>\n",
       "      <td>1378.260460</td>\n",
       "    </tr>\n",
       "    <tr>\n",
       "      <th>year</th>\n",
       "      <td>68.502214</td>\n",
       "    </tr>\n",
       "    <tr>\n",
       "      <th>propertyType</th>\n",
       "      <td>-34742.801716</td>\n",
       "    </tr>\n",
       "  </tbody>\n",
       "</table>\n",
       "</div>"
      ],
      "text/plain": [
       "                       coef\n",
       "bedrooms      151063.262494\n",
       "month           1378.260460\n",
       "year              68.502214\n",
       "propertyType  -34742.801716"
      ]
     },
     "execution_count": 764,
     "metadata": {},
     "output_type": "execute_result"
    }
   ],
   "source": [
    "pd.DataFrame(linreg_fit_false.coef_, \n",
    "             X.columns, \n",
    "             columns=['coef'])\\\n",
    "            .sort_values(by='coef', ascending=False)"
   ]
  },
  {
   "cell_type": "markdown",
   "metadata": {},
   "source": [
    "1. Великої різниці між моделями немає, хоча fit_intercept=True трохи точніше\n",
    "2. Перенавчання немає, R^2 має близькі значення для навчальної та тестової вибірки \n",
    "3. Найбільший коефіцієнт має 'bedrooms', цікаво, що хоч і великої різниці між ними немає, але коефіцієнти досить різні для місяця та року, у fit_intercept=False саме місяць має більший коефіцієнт, на відміну від року у fit_intercept=True"
   ]
  },
  {
   "cell_type": "markdown",
   "metadata": {},
   "source": [
    "<font size=\"5\">Тепер спробуємо Rigde regression з різними параметрами alpha:</font> <br>\n",
    "Будемо шукати найкращий параметр використовуючи GridSearchCV"
   ]
  },
  {
   "cell_type": "code",
   "execution_count": 765,
   "metadata": {},
   "outputs": [],
   "source": [
    "from sklearn.model_selection import GridSearchCV\n",
    "from sklearn.linear_model import Ridge\n",
    "\n",
    "ridge_reg = Ridge()\n",
    "parameters = {'alpha': [0.1, 1, 2, 5]}\n",
    "\n",
    "rigde_reg_gridsearch = GridSearchCV(ridge_reg, parameters, scoring='neg_mean_squared_error', cv=5)"
   ]
  },
  {
   "cell_type": "code",
   "execution_count": 766,
   "metadata": {},
   "outputs": [
    {
     "data": {
      "text/plain": [
       "GridSearchCV(cv=5, estimator=Ridge(), param_grid={'alpha': [0.1, 1, 2, 5]},\n",
       "             scoring='neg_mean_squared_error')"
      ]
     },
     "execution_count": 766,
     "metadata": {},
     "output_type": "execute_result"
    }
   ],
   "source": [
    "rigde_reg_gridsearch.fit(X_train, y_train)"
   ]
  },
  {
   "cell_type": "code",
   "execution_count": 767,
   "metadata": {},
   "outputs": [
    {
     "name": "stdout",
     "output_type": "stream",
     "text": [
      "Best score: -56541505912.6368, Best alpha: {'alpha': 5}\n"
     ]
    }
   ],
   "source": [
    "gridsearchscore(rigde_reg_gridsearch)"
   ]
  },
  {
   "cell_type": "code",
   "execution_count": 768,
   "metadata": {},
   "outputs": [
    {
     "data": {
      "text/plain": [
       "{'mean_fit_time': array([0.00319886, 0.        , 0.00160313, 0.00160284]),\n",
       " 'std_fit_time': array([0.00391779, 0.        , 0.00320625, 0.00320568]),\n",
       " 'mean_score_time': array([0.00159917, 0.00160265, 0.00159869, 0.0015975 ]),\n",
       " 'std_score_time': array([0.00319834, 0.0032053 , 0.00319738, 0.003195  ]),\n",
       " 'param_alpha': masked_array(data=[0.1, 1, 2, 5],\n",
       "              mask=[False, False, False, False],\n",
       "        fill_value='?',\n",
       "             dtype=object),\n",
       " 'params': [{'alpha': 0.1}, {'alpha': 1}, {'alpha': 2}, {'alpha': 5}],\n",
       " 'split0_test_score': array([-5.90133360e+10, -5.90133118e+10, -5.90132852e+10, -5.90132074e+10]),\n",
       " 'split1_test_score': array([-5.41267953e+10, -5.41266642e+10, -5.41265191e+10, -5.41260873e+10]),\n",
       " 'split2_test_score': array([-5.81102573e+10, -5.81104182e+10, -5.81105973e+10, -5.81111359e+10]),\n",
       " 'split3_test_score': array([-6.02428915e+10, -6.02429148e+10, -6.02429409e+10, -6.02430212e+10]),\n",
       " 'split4_test_score': array([-5.12143358e+10, -5.12142880e+10, -5.12142351e+10, -5.12140778e+10]),\n",
       " 'mean_test_score': array([-5.65415232e+10, -5.65415194e+10, -5.65415155e+10, -5.65415059e+10]),\n",
       " 'std_test_score': array([3.36097454e+09, 3.36102511e+09, 3.36108129e+09, 3.36124976e+09]),\n",
       " 'rank_test_score': array([4, 3, 2, 1])}"
      ]
     },
     "execution_count": 768,
     "metadata": {},
     "output_type": "execute_result"
    }
   ],
   "source": [
    "rigde_reg_gridsearch.cv_results_"
   ]
  },
  {
   "cell_type": "code",
   "execution_count": 769,
   "metadata": {},
   "outputs": [
    {
     "name": "stdout",
     "output_type": "stream",
     "text": [
      "RMSE: 246143.87211231483\n",
      "MSE: 60586805778.4436\n",
      "R2: 0.2705506816878005\n",
      "MAPE: 147759.78206201887\n"
     ]
    }
   ],
   "source": [
    "predict_ridge = rigde_reg_gridsearch.predict(X_test)\n",
    "\n",
    "regression_score(y_test, predict_ridge)"
   ]
  },
  {
   "cell_type": "code",
   "execution_count": 770,
   "metadata": {},
   "outputs": [
    {
     "data": {
      "image/png": "[encoded data removed]",
      "text/plain": [
       "<Figure size 432x288 with 1 Axes>"
      ]
     },
     "metadata": {
      "needs_background": "light"
     },
     "output_type": "display_data"
    }
   ],
   "source": [
    "truepredplot(y_test, predict_ridge)"
   ]
  },
  {
   "cell_type": "code",
   "execution_count": 771,
   "metadata": {},
   "outputs": [
    {
     "name": "stdout",
     "output_type": "stream",
     "text": [
      "RMSE: 237715.84894801796\n",
      "MSE: 56508824841.07689\n",
      "R2: 0.27951067243159367\n",
      "MAPE: 144951.47646149108\n"
     ]
    }
   ],
   "source": [
    "predict_ridge = rigde_reg_gridsearch.predict(X_train)\n",
    "\n",
    "regression_score(y_train, predict_ridge)"
   ]
  },
  {
   "cell_type": "code",
   "execution_count": 772,
   "metadata": {},
   "outputs": [
    {
     "data": {
      "image/png": "[encoded data removed]",
      "text/plain": [
       "<Figure size 432x288 with 1 Axes>"
      ]
     },
     "metadata": {
      "needs_background": "light"
     },
     "output_type": "display_data"
    }
   ],
   "source": [
    "truepredplot(y_train, predict_ridge)"
   ]
  },
  {
   "cell_type": "code",
   "execution_count": 773,
   "metadata": {},
   "outputs": [
    {
     "data": {
      "text/html": [
       "<div>\n",
       "<style scoped>\n",
       "    .dataframe tbody tr th:only-of-type {\n",
       "        vertical-align: middle;\n",
       "    }\n",
       "\n",
       "    .dataframe tbody tr th {\n",
       "        vertical-align: top;\n",
       "    }\n",
       "\n",
       "    .dataframe thead th {\n",
       "        text-align: right;\n",
       "    }\n",
       "</style>\n",
       "<table border=\"1\" class=\"dataframe\">\n",
       "  <thead>\n",
       "    <tr style=\"text-align: right;\">\n",
       "      <th></th>\n",
       "      <th>coef</th>\n",
       "    </tr>\n",
       "  </thead>\n",
       "  <tbody>\n",
       "    <tr>\n",
       "      <th>bedrooms</th>\n",
       "      <td>149446.550804</td>\n",
       "    </tr>\n",
       "    <tr>\n",
       "      <th>year</th>\n",
       "      <td>19935.101610</td>\n",
       "    </tr>\n",
       "    <tr>\n",
       "      <th>month</th>\n",
       "      <td>3351.669092</td>\n",
       "    </tr>\n",
       "    <tr>\n",
       "      <th>propertyType</th>\n",
       "      <td>-12518.248143</td>\n",
       "    </tr>\n",
       "  </tbody>\n",
       "</table>\n",
       "</div>"
      ],
      "text/plain": [
       "                       coef\n",
       "bedrooms      149446.550804\n",
       "year           19935.101610\n",
       "month           3351.669092\n",
       "propertyType  -12518.248143"
      ]
     },
     "execution_count": 773,
     "metadata": {},
     "output_type": "execute_result"
    }
   ],
   "source": [
    "pd.DataFrame(rigde_reg_gridsearch.best_estimator_.coef_, \n",
    "             X.columns, \n",
    "             columns=['coef'])\\\n",
    "            .sort_values(by='coef', ascending=False)"
   ]
  },
  {
   "cell_type": "markdown",
   "metadata": {},
   "source": [
    "1. Найкраще значення alpha = 5\n",
    "2. Великої різниці між Linear та Ridge Regression немає \n",
    "3. Перенавчання також немає\n",
    "4. Коефіцієнти дуже схожі на Linreg з fit_intercept=True"
   ]
  },
  {
   "cell_type": "markdown",
   "metadata": {},
   "source": [
    "<font size=\"5\">Тепер спробуємо Lasso regression з різними параметрами alpha:</font> <br>\n",
    "Будемо шукати найкращий параметр використовуючи GridSearchCV"
   ]
  },
  {
   "cell_type": "code",
   "execution_count": 774,
   "metadata": {},
   "outputs": [],
   "source": [
    "from sklearn.linear_model import Lasso\n",
    "\n",
    "lasso_reg = Lasso()\n",
    "parameters = {'alpha': [0.1, 1, 2, 5]}\n",
    "\n",
    "lasso_reg_gridsearch = GridSearchCV(lasso_reg, parameters, scoring='neg_mean_squared_error', cv=5)"
   ]
  },
  {
   "cell_type": "code",
   "execution_count": 775,
   "metadata": {},
   "outputs": [
    {
     "data": {
      "text/plain": [
       "GridSearchCV(cv=5, estimator=Lasso(), param_grid={'alpha': [0.1, 1, 2, 5]},\n",
       "             scoring='neg_mean_squared_error')"
      ]
     },
     "execution_count": 775,
     "metadata": {},
     "output_type": "execute_result"
    }
   ],
   "source": [
    "lasso_reg_gridsearch.fit(X_train, y_train)"
   ]
  },
  {
   "cell_type": "code",
   "execution_count": 776,
   "metadata": {},
   "outputs": [
    {
     "name": "stdout",
     "output_type": "stream",
     "text": [
      "Best score: -56541522363.747116, Best alpha: {'alpha': 5}\n"
     ]
    }
   ],
   "source": [
    "gridsearchscore(lasso_reg_gridsearch)"
   ]
  },
  {
   "cell_type": "code",
   "execution_count": 777,
   "metadata": {},
   "outputs": [
    {
     "data": {
      "text/plain": [
       "{'mean_fit_time': array([0.00639725, 0.00640073, 0.00320029, 0.00480056]),\n",
       " 'std_fit_time': array([0.00319863, 0.00320036, 0.00391954, 0.00391964]),\n",
       " 'mean_score_time': array([0.        , 0.        , 0.00160031, 0.00159998]),\n",
       " 'std_score_time': array([0.        , 0.        , 0.00320063, 0.00319996]),\n",
       " 'param_alpha': masked_array(data=[0.1, 1, 2, 5],\n",
       "              mask=[False, False, False, False],\n",
       "        fill_value='?',\n",
       "             dtype=object),\n",
       " 'params': [{'alpha': 0.1}, {'alpha': 1}, {'alpha': 2}, {'alpha': 5}],\n",
       " 'split0_test_score': array([-5.90133380e+10, -5.90133315e+10, -5.90133242e+10, -5.90133028e+10]),\n",
       " 'split1_test_score': array([-5.41268043e+10, -5.41267533e+10, -5.41266967e+10, -5.41265274e+10]),\n",
       " 'split2_test_score': array([-5.81102433e+10, -5.81102784e+10, -5.81103175e+10, -5.81104350e+10]),\n",
       " 'split3_test_score': array([-6.02428894e+10, -6.02428936e+10, -6.02428983e+10, -6.02429126e+10]),\n",
       " 'split4_test_score': array([-5.12143430e+10, -5.12143596e+10, -5.12143782e+10, -5.12144340e+10]),\n",
       " 'mean_test_score': array([-5.65415236e+10, -5.65415233e+10, -5.65415230e+10, -5.65415224e+10]),\n",
       " 'std_test_score': array([3.36096950e+09, 3.36097478e+09, 3.36098065e+09, 3.36099825e+09]),\n",
       " 'rank_test_score': array([4, 3, 2, 1])}"
      ]
     },
     "execution_count": 777,
     "metadata": {},
     "output_type": "execute_result"
    }
   ],
   "source": [
    "lasso_reg_gridsearch.cv_results_"
   ]
  },
  {
   "cell_type": "code",
   "execution_count": 778,
   "metadata": {},
   "outputs": [
    {
     "name": "stdout",
     "output_type": "stream",
     "text": [
      "RMSE: 246143.2505548481\n",
      "MSE: 60586499793.70674\n",
      "R2: 0.2705543656641194\n",
      "MAPE: 147761.2035398721\n"
     ]
    }
   ],
   "source": [
    "predict_lasso = lasso_reg_gridsearch.predict(X_test)\n",
    "\n",
    "regression_score(y_test, predict_lasso)"
   ]
  },
  {
   "cell_type": "code",
   "execution_count": 779,
   "metadata": {},
   "outputs": [
    {
     "data": {
      "image/png": "[encoded data removed]",
      "text/plain": [
       "<Figure size 432x288 with 1 Axes>"
      ]
     },
     "metadata": {
      "needs_background": "light"
     },
     "output_type": "display_data"
    }
   ],
   "source": [
    "truepredplot(y_test, predict_lasso)"
   ]
  },
  {
   "cell_type": "code",
   "execution_count": 780,
   "metadata": {},
   "outputs": [
    {
     "name": "stdout",
     "output_type": "stream",
     "text": [
      "RMSE: 237715.84450512452\n",
      "MSE: 56508822728.784546\n",
      "R2: 0.2795106993633888\n",
      "MAPE: 144952.7187665138\n"
     ]
    }
   ],
   "source": [
    "predict_lasso = lasso_reg_gridsearch.predict(X_train)\n",
    "\n",
    "regression_score(y_train, predict_lasso)"
   ]
  },
  {
   "cell_type": "code",
   "execution_count": 781,
   "metadata": {},
   "outputs": [
    {
     "data": {
      "image/png": "[encoded data removed]",
      "text/plain": [
       "<Figure size 432x288 with 1 Axes>"
      ]
     },
     "metadata": {
      "needs_background": "light"
     },
     "output_type": "display_data"
    }
   ],
   "source": [
    "truepredplot(y_train, predict_lasso)"
   ]
  },
  {
   "cell_type": "code",
   "execution_count": 782,
   "metadata": {},
   "outputs": [
    {
     "data": {
      "text/html": [
       "<div>\n",
       "<style scoped>\n",
       "    .dataframe tbody tr th:only-of-type {\n",
       "        vertical-align: middle;\n",
       "    }\n",
       "\n",
       "    .dataframe tbody tr th {\n",
       "        vertical-align: top;\n",
       "    }\n",
       "\n",
       "    .dataframe thead th {\n",
       "        text-align: right;\n",
       "    }\n",
       "</style>\n",
       "<table border=\"1\" class=\"dataframe\">\n",
       "  <thead>\n",
       "    <tr style=\"text-align: right;\">\n",
       "      <th></th>\n",
       "      <th>coef</th>\n",
       "    </tr>\n",
       "  </thead>\n",
       "  <tbody>\n",
       "    <tr>\n",
       "      <th>bedrooms</th>\n",
       "      <td>149491.739373</td>\n",
       "    </tr>\n",
       "    <tr>\n",
       "      <th>year</th>\n",
       "      <td>19934.986418</td>\n",
       "    </tr>\n",
       "    <tr>\n",
       "      <th>month</th>\n",
       "      <td>3351.169181</td>\n",
       "    </tr>\n",
       "    <tr>\n",
       "      <th>propertyType</th>\n",
       "      <td>-12578.318655</td>\n",
       "    </tr>\n",
       "  </tbody>\n",
       "</table>\n",
       "</div>"
      ],
      "text/plain": [
       "                       coef\n",
       "bedrooms      149491.739373\n",
       "year           19934.986418\n",
       "month           3351.169181\n",
       "propertyType  -12578.318655"
      ]
     },
     "execution_count": 782,
     "metadata": {},
     "output_type": "execute_result"
    }
   ],
   "source": [
    "pd.DataFrame(lasso_reg_gridsearch.best_estimator_.coef_, \n",
    "             X.columns, \n",
    "             columns=['coef'])\\\n",
    "            .sort_values(by='coef', ascending=False)"
   ]
  },
  {
   "cell_type": "markdown",
   "metadata": {},
   "source": [
    "1. Найкращий параметр alpha = 5\n",
    "2. Результати схожі з попередніми\n",
    "3. Перенавчання немає\n",
    "4. Коефіцієнти також майже однакові з попердніми моделями"
   ]
  },
  {
   "cell_type": "markdown",
   "metadata": {},
   "source": [
    "<font size=\"5\">Тепер спробуємо Elastic regression з різними параметрами alpha, l1_ratio:</font> <br>\n",
    "Будемо шукати найкращий параметр використовуючи GridSearchCV"
   ]
  },
  {
   "cell_type": "code",
   "execution_count": 783,
   "metadata": {},
   "outputs": [],
   "source": [
    "from sklearn.linear_model import ElasticNet\n",
    "\n",
    "EN_reg = ElasticNet(max_iter=10000)\n",
    "parameters = {'alpha': [0.1, 1, 2, 5],\n",
    "              'l1_ratio': [0, 0.2, 0.5, 0.8, 1]}\n",
    "\n",
    "EN_reg_gridsearch = GridSearchCV(EN_reg, parameters, scoring='neg_mean_squared_error', cv=5)"
   ]
  },
  {
   "cell_type": "code",
   "execution_count": 784,
   "metadata": {},
   "outputs": [
    {
     "data": {
      "text/plain": [
       "GridSearchCV(cv=5, estimator=ElasticNet(max_iter=10000),\n",
       "             param_grid={'alpha': [0.1, 1, 2, 5],\n",
       "                         'l1_ratio': [0, 0.2, 0.5, 0.8, 1]},\n",
       "             scoring='neg_mean_squared_error')"
      ]
     },
     "execution_count": 784,
     "metadata": {},
     "output_type": "execute_result"
    }
   ],
   "source": [
    "EN_reg_gridsearch.fit(X_train, y_train)"
   ]
  },
  {
   "cell_type": "code",
   "execution_count": 785,
   "metadata": {},
   "outputs": [
    {
     "name": "stdout",
     "output_type": "stream",
     "text": [
      "Best score: -56541522363.747116, Best alpha: {'alpha': 5, 'l1_ratio': 1}\n"
     ]
    }
   ],
   "source": [
    "gridsearchscore(EN_reg_gridsearch)"
   ]
  },
  {
   "cell_type": "code",
   "execution_count": 786,
   "metadata": {},
   "outputs": [
    {
     "data": {
      "text/plain": [
       "{'mean_fit_time': array([0.79075522, 0.00160003, 0.00320039, 0.00320039, 0.00480065,\n",
       "        0.67877007, 0.00320063, 0.0032002 , 0.00640149, 0.00480051,\n",
       "        0.61479511, 0.00159998, 0.00320067, 0.00320029, 0.00480056,\n",
       "        0.69652014, 0.00640111, 0.00480037, 0.00480042, 0.00320048]),\n",
       " 'std_fit_time': array([0.13327922, 0.00320005, 0.00391966, 0.00391966, 0.00391972,\n",
       "        0.12757137, 0.00391995, 0.00391943, 0.00320075, 0.0039196 ,\n",
       "        0.02610238, 0.00319996, 0.00392001, 0.00391954, 0.00391964,\n",
       "        0.09793576, 0.00320056, 0.00391948, 0.00391952, 0.00391978]),\n",
       " 'mean_score_time': array([0.        , 0.0032002 , 0.00160036, 0.        , 0.        ,\n",
       "        0.00319986, 0.00160027, 0.00159998, 0.        , 0.00159979,\n",
       "        0.00160041, 0.00320024, 0.        , 0.00160022, 0.        ,\n",
       "        0.00320063, 0.        , 0.        , 0.        , 0.00160036]),\n",
       " 'std_score_time': array([0.        , 0.00391943, 0.00320072, 0.        , 0.        ,\n",
       "        0.00391902, 0.00320053, 0.00319996, 0.        , 0.00319958,\n",
       "        0.00320082, 0.00391948, 0.        , 0.00320044, 0.        ,\n",
       "        0.00391995, 0.        , 0.        , 0.        , 0.00320072]),\n",
       " 'param_alpha': masked_array(data=[0.1, 0.1, 0.1, 0.1, 0.1, 1, 1, 1, 1, 1, 2, 2, 2, 2, 2,\n",
       "                    5, 5, 5, 5, 5],\n",
       "              mask=[False, False, False, False, False, False, False, False,\n",
       "                    False, False, False, False, False, False, False, False,\n",
       "                    False, False, False, False],\n",
       "        fill_value='?',\n",
       "             dtype=object),\n",
       " 'param_l1_ratio': masked_array(data=[0, 0.2, 0.5, 0.8, 1, 0, 0.2, 0.5, 0.8, 1, 0, 0.2, 0.5,\n",
       "                    0.8, 1, 0, 0.2, 0.5, 0.8, 1],\n",
       "              mask=[False, False, False, False, False, False, False, False,\n",
       "                    False, False, False, False, False, False, False, False,\n",
       "                    False, False, False, False],\n",
       "        fill_value='?',\n",
       "             dtype=object),\n",
       " 'params': [{'alpha': 0.1, 'l1_ratio': 0},\n",
       "  {'alpha': 0.1, 'l1_ratio': 0.2},\n",
       "  {'alpha': 0.1, 'l1_ratio': 0.5},\n",
       "  {'alpha': 0.1, 'l1_ratio': 0.8},\n",
       "  {'alpha': 0.1, 'l1_ratio': 1},\n",
       "  {'alpha': 1, 'l1_ratio': 0},\n",
       "  {'alpha': 1, 'l1_ratio': 0.2},\n",
       "  {'alpha': 1, 'l1_ratio': 0.5},\n",
       "  {'alpha': 1, 'l1_ratio': 0.8},\n",
       "  {'alpha': 1, 'l1_ratio': 1},\n",
       "  {'alpha': 2, 'l1_ratio': 0},\n",
       "  {'alpha': 2, 'l1_ratio': 0.2},\n",
       "  {'alpha': 2, 'l1_ratio': 0.5},\n",
       "  {'alpha': 2, 'l1_ratio': 0.8},\n",
       "  {'alpha': 2, 'l1_ratio': 1},\n",
       "  {'alpha': 5, 'l1_ratio': 0},\n",
       "  {'alpha': 5, 'l1_ratio': 0.2},\n",
       "  {'alpha': 5, 'l1_ratio': 0.5},\n",
       "  {'alpha': 5, 'l1_ratio': 0.8},\n",
       "  {'alpha': 5, 'l1_ratio': 1}],\n",
       " 'split0_test_score': array([-5.92074002e+10, -5.91461270e+10, -5.90706957e+10, -5.90211107e+10,\n",
       "        -5.90133380e+10, -6.40253221e+10, -6.29888029e+10, -6.12772820e+10,\n",
       "        -5.96123405e+10, -5.90133315e+10, -6.78661402e+10, -6.65657533e+10,\n",
       "        -6.40254054e+10, -6.06913834e+10, -5.90133242e+10, -7.29135039e+10,\n",
       "        -7.17882409e+10, -6.91726811e+10, -6.40256549e+10, -5.90133028e+10]),\n",
       " 'split1_test_score': array([-5.42548749e+10, -5.41971726e+10, -5.41312487e+10, -5.41030011e+10,\n",
       "        -5.41268043e+10, -5.89783073e+10, -5.79665161e+10, -5.62909558e+10,\n",
       "        -5.46515641e+10, -5.41267533e+10, -6.27129422e+10, -6.14510129e+10,\n",
       "        -5.89783904e+10, -5.57153950e+10, -5.41266967e+10, -6.75794271e+10,\n",
       "        -6.64998406e+10, -6.39779738e+10, -5.89786393e+10, -5.41265274e+10]),\n",
       " 'split2_test_score': array([-5.86010909e+10, -5.84895129e+10, -5.83321459e+10, -5.81898139e+10,\n",
       "        -5.81102433e+10, -6.44501297e+10, -6.32885197e+10, -6.13151393e+10,\n",
       "        -5.92208782e+10, -5.81102784e+10, -6.86495398e+10, -6.72408028e+10,\n",
       "        -6.44502307e+10, -6.06115466e+10, -5.81103175e+10, -7.40506501e+10,\n",
       "        -7.28530187e+10, -7.00560864e+10, -6.44505337e+10, -5.81104350e+10]),\n",
       " 'split3_test_score': array([-6.05137170e+10, -6.04390924e+10, -6.03421774e+10, -6.02688462e+10,\n",
       "        -6.02428894e+10, -6.55941267e+10, -6.45277198e+10, -6.27520125e+10,\n",
       "        -6.09760064e+10, -6.02428936e+10, -6.95205367e+10, -6.81939494e+10,\n",
       "        -6.55942183e+10, -6.21363827e+10, -6.02428983e+10, -7.46634626e+10,\n",
       "        -7.35165695e+10, -7.08520560e+10, -6.55944926e+10, -6.02429126e+10]),\n",
       " 'split4_test_score': array([-5.12946361e+10, -5.12589572e+10, -5.12213899e+10, -5.12061661e+10,\n",
       "        -5.12143430e+10, -5.53841793e+10, -5.44518511e+10, -5.29463514e+10,\n",
       "        -5.15763709e+10, -5.12143596e+10, -5.89141500e+10, -5.77085545e+10,\n",
       "        -5.53842598e+10, -5.24469651e+10, -5.12143782e+10, -6.36674463e+10,\n",
       "        -6.25985488e+10, -6.01340157e+10, -5.53845009e+10, -5.12144340e+10]),\n",
       " 'mean_test_score': array([-5.67743438e+10, -5.67061724e+10, -5.66195315e+10, -5.65577876e+10,\n",
       "        -5.65415236e+10, -6.16864130e+10, -6.06446819e+10, -5.89163482e+10,\n",
       "        -5.72074320e+10, -5.65415233e+10, -6.55326618e+10, -6.42320146e+10,\n",
       "        -6.16865009e+10, -5.83203345e+10, -5.65415230e+10, -7.05748980e+10,\n",
       "        -6.94512437e+10, -6.68385626e+10, -6.16867643e+10, -5.65415224e+10]),\n",
       " 'std_test_score': array([3.45295817e+09, 3.43614920e+09, 3.40971643e+09, 3.38139780e+09,\n",
       "        3.36096950e+09, 3.88409162e+09, 3.82325750e+09, 3.70335187e+09,\n",
       "        3.52933458e+09, 3.36097478e+09, 4.06985781e+09, 4.01212095e+09,\n",
       "        3.88409675e+09, 3.65283252e+09, 3.36098065e+09, 4.26502109e+09,\n",
       "        4.22446946e+09, 4.12413909e+09, 3.88411217e+09, 3.36099825e+09]),\n",
       " 'rank_test_score': array([ 8,  7,  6,  5,  4, 13, 12, 11,  9,  3, 17, 16, 14, 10,  2, 20, 19,\n",
       "        18, 15,  1])}"
      ]
     },
     "execution_count": 786,
     "metadata": {},
     "output_type": "execute_result"
    }
   ],
   "source": [
    "EN_reg_gridsearch.cv_results_"
   ]
  },
  {
   "cell_type": "code",
   "execution_count": 787,
   "metadata": {},
   "outputs": [
    {
     "name": "stdout",
     "output_type": "stream",
     "text": [
      "RMSE: 246143.2505548481\n",
      "MSE: 60586499793.70674\n",
      "R2: 0.2705543656641194\n",
      "MAPE: 147761.2035398721\n"
     ]
    }
   ],
   "source": [
    "predict_EN = EN_reg_gridsearch.predict(X_test)\n",
    "\n",
    "regression_score(y_test, predict_EN)"
   ]
  },
  {
   "cell_type": "code",
   "execution_count": 788,
   "metadata": {},
   "outputs": [
    {
     "data": {
      "image/png": "[encoded data removed]",
      "text/plain": [
       "<Figure size 432x288 with 1 Axes>"
      ]
     },
     "metadata": {
      "needs_background": "light"
     },
     "output_type": "display_data"
    }
   ],
   "source": [
    "truepredplot(y_test, predict_EN)"
   ]
  },
  {
   "cell_type": "code",
   "execution_count": 789,
   "metadata": {},
   "outputs": [
    {
     "name": "stdout",
     "output_type": "stream",
     "text": [
      "RMSE: 237715.84450512452\n",
      "MSE: 56508822728.784546\n",
      "R2: 0.2795106993633888\n",
      "MAPE: 144952.7187665138\n"
     ]
    }
   ],
   "source": [
    "predict_EN = EN_reg_gridsearch.predict(X_train)\n",
    "\n",
    "regression_score(y_train, predict_EN)"
   ]
  },
  {
   "cell_type": "code",
   "execution_count": 790,
   "metadata": {},
   "outputs": [
    {
     "data": {
      "image/png": "[encoded data removed]",
      "text/plain": [
       "<Figure size 432x288 with 1 Axes>"
      ]
     },
     "metadata": {
      "needs_background": "light"
     },
     "output_type": "display_data"
    }
   ],
   "source": [
    "truepredplot(y_train, predict_EN)"
   ]
  },
  {
   "cell_type": "code",
   "execution_count": 791,
   "metadata": {},
   "outputs": [
    {
     "data": {
      "text/html": [
       "<div>\n",
       "<style scoped>\n",
       "    .dataframe tbody tr th:only-of-type {\n",
       "        vertical-align: middle;\n",
       "    }\n",
       "\n",
       "    .dataframe tbody tr th {\n",
       "        vertical-align: top;\n",
       "    }\n",
       "\n",
       "    .dataframe thead th {\n",
       "        text-align: right;\n",
       "    }\n",
       "</style>\n",
       "<table border=\"1\" class=\"dataframe\">\n",
       "  <thead>\n",
       "    <tr style=\"text-align: right;\">\n",
       "      <th></th>\n",
       "      <th>coef</th>\n",
       "    </tr>\n",
       "  </thead>\n",
       "  <tbody>\n",
       "    <tr>\n",
       "      <th>bedrooms</th>\n",
       "      <td>149491.739373</td>\n",
       "    </tr>\n",
       "    <tr>\n",
       "      <th>year</th>\n",
       "      <td>19934.986418</td>\n",
       "    </tr>\n",
       "    <tr>\n",
       "      <th>month</th>\n",
       "      <td>3351.169181</td>\n",
       "    </tr>\n",
       "    <tr>\n",
       "      <th>propertyType</th>\n",
       "      <td>-12578.318655</td>\n",
       "    </tr>\n",
       "  </tbody>\n",
       "</table>\n",
       "</div>"
      ],
      "text/plain": [
       "                       coef\n",
       "bedrooms      149491.739373\n",
       "year           19934.986418\n",
       "month           3351.169181\n",
       "propertyType  -12578.318655"
      ]
     },
     "execution_count": 791,
     "metadata": {},
     "output_type": "execute_result"
    }
   ],
   "source": [
    "pd.DataFrame(EN_reg_gridsearch.best_estimator_.coef_, \n",
    "             X.columns, \n",
    "             columns=['coef'])\\\n",
    "            .sort_values(by='coef', ascending=False)"
   ]
  },
  {
   "cell_type": "markdown",
   "metadata": {},
   "source": [
    "1. Найкращий параметр alpha = 5, l1_ratio = 1, модель виявила, що дорівнює похибці l2_ratio, тобто похибкою для Lasso\n",
    "2. Результати ідентичні з Lasso\n",
    "3. Перенавчання немає\n",
    "4. Коефіцієнти ідентичні з Lasso"
   ]
  },
  {
   "cell_type": "markdown",
   "metadata": {},
   "source": [
    "Моделям було складно себе реалізувати через невелику кількість ознак які б корелювали з цільовою ознакою, через це вони не зрозуміли як прогнозувати високі ціни (а саме це і дало велику середньоквадратичну похибку), можно було б сказати, що це артефакти, але їх кількість завелика. \n",
    "На мою думку саме через це ми і отримали досить погані результати."
   ]
  },
  {
   "cell_type": "markdown",
   "metadata": {},
   "source": [
    "<font size=5>Висновок:</font> <br>\n",
    "У даній лабораторній роботі я навчився будувати та оцiнювати якостi моделей дерев рiшень та опорних векторiв для класифiкацiї та регресiї засобами бiблiотеки Scikit-Learn Python"
   ]
  }
 ],
 "metadata": {
  "kernelspec": {
   "display_name": "Python 3.9.7 ('base')",
   "language": "python",
   "name": "python3"
  },
  "language_info": {
   "codemirror_mode": {
    "name": "ipython",
    "version": 3
   },
   "file_extension": ".py",
   "mimetype": "text/x-python",
   "name": "python",
   "nbconvert_exporter": "python",
   "pygments_lexer": "ipython3",
   "version": "3.9.7"
  },
  "orig_nbformat": 4,
  "vscode": {
   "interpreter": {
    "hash": "367ed66b7c9f5be644b554d9fb6d47b96831e9e3fca9b20dd15ac3081d756720"
   }
  }
 },
 "nbformat": 4,
 "nbformat_minor": 2
}
