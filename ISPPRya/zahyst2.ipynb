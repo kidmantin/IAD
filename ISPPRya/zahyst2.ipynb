{
 "cells": [
  {
   "attachments": {},
   "cell_type": "markdown",
   "metadata": {},
   "source": [
    "# Башинський Владислав КА-05 \n",
    "13 варіант: Об’єкти Variable бібліотеки TensorFlow для збереження і оновлення параметрів моделі."
   ]
  },
  {
   "cell_type": "code",
   "execution_count": 1,
   "metadata": {},
   "outputs": [],
   "source": [
    "import tensorflow as tf"
   ]
  },
  {
   "attachments": {},
   "cell_type": "markdown",
   "metadata": {},
   "source": [
    "Змінні створюються і відстежуються за допомогою класу tf.Variable у Tensorflow. \n",
    "\n",
    "tf.Variable являє собою тензор, значення якого можна змінити, запустивши над ним операції, навідміну від tf.constant, значення якого змінити не можна.\n",
    "\n",
    "Конкретні операції дають змогу читати і змінювати значення цього тензора. Бібліотеки вищого рівня, як-от tf.keras використовують tf.Variable для зберігання параметрів моделі."
   ]
  },
  {
   "attachments": {},
   "cell_type": "markdown",
   "metadata": {},
   "source": [
    "## Створення \n",
    "\n",
    "Для того щоб створити tf.Variable потрібно вказати початкове значення, сам tf.Variable буде мати той самий тип даних, що і значення при ініціалізації"
   ]
  },
  {
   "cell_type": "code",
   "execution_count": 2,
   "metadata": {},
   "outputs": [],
   "source": [
    "my_variable = tf.Variable([[1.0, 2.0], [3.0, 4.0]])\n",
    "\n",
    "# Змінні можуть бути будь-яких типів, так само як і тензори\n",
    "bool_variable = tf.Variable([False, False, False, True])\n",
    "complex_variable = tf.Variable([5 + 4j, 6 + 1j])"
   ]
  },
  {
   "attachments": {},
   "cell_type": "markdown",
   "metadata": {},
   "source": [
    "Змінна виглядає і діє як тензор і, по суті, є структурою даних, підтримуваною tf.Tensor.\n",
    "\n",
    " Як і тензори, вони мають dtype і форму, і їх можна експортувати в NumPy."
   ]
  },
  {
   "cell_type": "code",
   "execution_count": 3,
   "metadata": {},
   "outputs": [
    {
     "name": "stdout",
     "output_type": "stream",
     "text": [
      "Shape:  (2, 2)\n",
      "DType:  <dtype: 'float32'>\n",
      "As NumPy:  [[1. 2.]\n",
      " [3. 4.]]\n"
     ]
    }
   ],
   "source": [
    "print(\"Shape: \", my_variable.shape)\n",
    "print(\"DType: \", my_variable.dtype)\n",
    "print(\"As NumPy: \", my_variable.numpy())"
   ]
  },
  {
   "cell_type": "code",
   "execution_count": 4,
   "metadata": {},
   "outputs": [
    {
     "name": "stdout",
     "output_type": "stream",
     "text": [
      "Shape of bool:  (4,)\n",
      "DType of bool:  <dtype: 'bool'>\n",
      "Bool as NumPy:  [False False False  True]\n"
     ]
    }
   ],
   "source": [
    "print(\"Shape of bool: \", bool_variable.shape)\n",
    "print(\"DType of bool: \", bool_variable.dtype)\n",
    "print(\"Bool as NumPy: \", bool_variable.numpy())"
   ]
  },
  {
   "cell_type": "code",
   "execution_count": 5,
   "metadata": {},
   "outputs": [
    {
     "name": "stdout",
     "output_type": "stream",
     "text": [
      "Shape of complex:  (2,)\n",
      "DType of complex:  <dtype: 'complex128'>\n",
      "Complex as NumPy:  [5.+4.j 6.+1.j]\n"
     ]
    }
   ],
   "source": [
    "print(\"Shape of complex: \", complex_variable.shape)\n",
    "print(\"DType of complex: \", complex_variable.dtype)\n",
    "print(\"Complex as NumPy: \", complex_variable.numpy())"
   ]
  },
  {
   "attachments": {},
   "cell_type": "markdown",
   "metadata": {},
   "source": [
    "Більшість тензорних операцій працюють зі змінними, але змінні не можуть бути змінені на місці "
   ]
  },
  {
   "cell_type": "code",
   "execution_count": 7,
   "metadata": {},
   "outputs": [
    {
     "name": "stdout",
     "output_type": "stream",
     "text": [
      "A variable: <tf.Variable 'Variable:0' shape=(2, 2) dtype=float32, numpy=\n",
      "array([[1., 2.],\n",
      "       [3., 4.]], dtype=float32)>\n",
      "\n",
      "Viewed as a tensor: tf.Tensor(\n",
      "[[1. 2.]\n",
      " [3. 4.]], shape=(2, 2), dtype=float32)\n",
      "\n",
      "Index of highest value: tf.Tensor([1 1], shape=(2,), dtype=int64)\n",
      "\n",
      "Copying and reshaping:  tf.Tensor([[1. 2. 3. 4.]], shape=(1, 4), dtype=float32)\n",
      "\n",
      "A variable: <tf.Variable 'Variable:0' shape=(2, 2) dtype=float32, numpy=\n",
      "array([[1., 2.],\n",
      "       [3., 4.]], dtype=float32)>\n"
     ]
    }
   ],
   "source": [
    "print(\"A variable:\", my_variable)\n",
    "print(\"\\nViewed as a tensor:\", tf.convert_to_tensor(my_variable))\n",
    "print(\"\\nIndex of highest value:\", tf.argmax(my_variable))\n",
    "\n",
    "# Це створює новий тензор, а не перероблює наявний\n",
    "print(\"\\nCopying and reshaping: \", tf.reshape(my_variable, [1,4]))\n",
    "print(\"\\nA variable:\", my_variable)"
   ]
  },
  {
   "attachments": {},
   "cell_type": "markdown",
   "metadata": {},
   "source": [
    "Створення нових змінних з наявних змінних дублює резервні тензори. Дві змінні не будуть використовувати одну й ту саму пам'ять."
   ]
  },
  {
   "cell_type": "code",
   "execution_count": 8,
   "metadata": {},
   "outputs": [
    {
     "name": "stdout",
     "output_type": "stream",
     "text": [
      "[5. 6.]\n",
      "[2. 3.]\n",
      "[7. 9.]\n",
      "[0. 0.]\n"
     ]
    }
   ],
   "source": [
    "a = tf.Variable([2.0, 3.0])\n",
    "# Створити b на основі значення a\n",
    "b = tf.Variable(a)\n",
    "a.assign([5, 6])\n",
    "\n",
    "# a і b відрізняються\n",
    "print(a.numpy())\n",
    "print(b.numpy())\n",
    "\n",
    "# Існують і інші версії assign\n",
    "print(a.assign_add([2,3]).numpy())  # [7. 9.]\n",
    "print(a.assign_sub([7,9]).numpy())  # [0. 0.]"
   ]
  },
  {
   "attachments": {},
   "cell_type": "markdown",
   "metadata": {},
   "source": [
    "Цей тип данних зазвичай використовується для параметрів моделі які потребують навчання, але якщо ця змінна не потребує навчання їй можна присвоїти атрибут trainable = false при створенні\n",
    "\n",
    "Прикладом змінної якій не потрібні градієнти і навчання - лічильник кроків навчання:"
   ]
  },
  {
   "cell_type": "code",
   "execution_count": 11,
   "metadata": {},
   "outputs": [
    {
     "data": {
      "text/plain": [
       "<tf.Tensor: shape=(), dtype=float32, numpy=6.0>"
      ]
     },
     "execution_count": 11,
     "metadata": {},
     "output_type": "execute_result"
    }
   ],
   "source": [
    "x = tf.Variable(3.0)\n",
    "\n",
    "with tf.GradientTape() as tape:\n",
    "    y = x**2\n",
    "tape.gradient(y, x)"
   ]
  },
  {
   "cell_type": "code",
   "execution_count": 15,
   "metadata": {},
   "outputs": [
    {
     "name": "stdout",
     "output_type": "stream",
     "text": [
      "None\n"
     ]
    }
   ],
   "source": [
    "step_counter = tf.Variable(1., trainable=False)\n",
    "\n",
    "with tf.GradientTape() as tape:\n",
    "    y = step_counter**2\n",
    "\n",
    "print(tape.gradient(y, step_counter))"
   ]
  }
 ],
 "metadata": {
  "kernelspec": {
   "display_name": "fullds",
   "language": "python",
   "name": "python3"
  },
  "language_info": {
   "codemirror_mode": {
    "name": "ipython",
    "version": 3
   },
   "file_extension": ".py",
   "mimetype": "text/x-python",
   "name": "python",
   "nbconvert_exporter": "python",
   "pygments_lexer": "ipython3",
   "version": "3.8.15"
  },
  "orig_nbformat": 4
 },
 "nbformat": 4,
 "nbformat_minor": 2
}
